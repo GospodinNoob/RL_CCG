{
 "cells": [
  {
   "cell_type": "code",
   "execution_count": 1,
   "metadata": {},
   "outputs": [],
   "source": [
    "import cards as ccg\n",
    "import pandas as pd\n",
    "import numpy as np\n",
    "\n",
    "cards = pd.read_csv('cardsTable.csv')\n",
    "cardsList = [ccg.Minion(i) for i in cards.values.tolist()]\n",
    "\n",
    "cores = pd.read_csv('cores.csv')\n",
    "coreList = [ccg.Core(i) for i in cores.values.tolist()]\n",
    "\n",
    "playersNum = 2\n",
    "piles = [[ccg.Pile(cardsList, 10) for _ in range(4)] for I in range(playersNum)]\n",
    "cores = np.random.choice(coreList, 2)\n",
    "decks = [ccg.Deck(cores[i], piles[i], i) for i in range(playersNum)]"
   ]
  },
  {
   "cell_type": "code",
   "execution_count": 2,
   "metadata": {},
   "outputs": [],
   "source": [
    "session = ccg.Session(decks)"
   ]
  },
  {
   "cell_type": "code",
   "execution_count": 3,
   "metadata": {},
   "outputs": [
    {
     "name": "stdout",
     "output_type": "stream",
     "text": [
      "0.4.1\n"
     ]
    }
   ],
   "source": [
    "from __future__ import print_function\n",
    "import numpy as np\n",
    "import torch\n",
    "print(torch.__version__)"
   ]
  },
  {
   "cell_type": "code",
   "execution_count": 4,
   "metadata": {},
   "outputs": [],
   "source": [
    "import copy\n",
    "import random\n",
    "\n",
    "def observationTable(table, turn):\n",
    "    tables = copy.deepcopy(table)\n",
    "    for i in tables:\n",
    "        for j in range(len(i), 8):\n",
    "            i.append(observationMinion(ccg.Minion().getCurState()))\n",
    "        i[0] = observationCore(i[0])\n",
    "        for j in range(1, len(i)):\n",
    "            i[j] = observationMinion(i[j])\n",
    "        buf = i[1:]\n",
    "        #random.shuffle(buf)\n",
    "        i[1:] = buf\n",
    "    tables[0], tables[turn] = tables[turn], tables[0]\n",
    "    for i in range(len(tables)):\n",
    "        tables[i] = np.hstack(tuple(tables[i]))\n",
    "    return np.hstack(tuple(tables))\n",
    "\n",
    "def observationCore(core):\n",
    "    return np.array(list(core))\n",
    "\n",
    "def observationMinion(minion):\n",
    "    state = list(minion)\n",
    "    state[5] = int(state[5])\n",
    "    return np.array(state)\n",
    "\n",
    "def observationPile(pile):\n",
    "    pileCopy = copy.deepcopy(pile)\n",
    "    #random.shuffle(pileCopy)\n",
    "    for i in range(len(pileCopy)):\n",
    "        pileCopy[i] = list(pileCopy[i])\n",
    "        if pileCopy[i][1] == None:\n",
    "            pileCopy[i][1] = observationMinion(ccg.Minion().getCurState())\n",
    "        else:\n",
    "            pileCopy[i][1] = observationMinion(pileCopy[i][1])\n",
    "        pileCopy[i] = [pileCopy[i][0]] + pileCopy[i][1].tolist()\n",
    "    return np.hstack(tuple(pileCopy))\n",
    "\n",
    "def createStateObservation(state):\n",
    "    \n",
    "    observations = dict()\n",
    "    observations[\"main\"] = observationTable(state[\"battleGround\"][\"table\"], state[\"turn\"])\n",
    "    pilesObs = []\n",
    "    \n",
    "    for i in state[\"piles\"]:   \n",
    "        pilesObs.append(observationPile(i))\n",
    "        \n",
    "    pilesObs[0], pilesObs[state[\"turn\"]] = pilesObs[state[\"turn\"]], pilesObs[0]\n",
    "    pilesObs = np.hstack(tuple(pilesObs))\n",
    "    observations[\"main\"] = observations[\"main\"].tolist() + pilesObs.tolist()\n",
    "\n",
    "    return observations[\"main\"]\n",
    "    \n",
    "    observations[\"unitsOtCore\"]\n",
    "    observations[\"unitsActtack\"] = []\n",
    "    for i in range(len(state[\"table\"])):\n",
    "        for j in range(len()):\n",
    "            pass\n",
    "    \n",
    "    observations[\"playCard\"] = observations[\"main\"]\n",
    "    \n",
    "    return observations\n"
   ]
  },
  {
   "cell_type": "code",
   "execution_count": 5,
   "metadata": {},
   "outputs": [],
   "source": [
    "from a2c_v1 import ActorNetwork, ValueNetwork\n",
    "import math\n",
    "\n",
    "import numpy as np\n",
    "\n",
    "import torch\n",
    "import torch.nn as nn\n",
    "import torch.nn.functional as F\n",
    "from torch.autograd import Variable"
   ]
  },
  {
   "cell_type": "code",
   "execution_count": 6,
   "metadata": {},
   "outputs": [],
   "source": [
    "state = session.reset()\n",
    "state_dim = len(createStateObservation(session.getObservation()))\n",
    "n_actions = 1 + 7 * 8 + 4\n",
    "\n",
    "value_network = ValueNetwork(state_dim)\n",
    "value_network_optim = torch.optim.Adam(value_network.parameters(), lr=0.01)\n",
    "\n",
    "actor_network = ActorNetwork(state_dim ,n_actions)\n",
    "actor_network_optim = torch.optim.Adam(actor_network.parameters(), lr = 0.01)"
   ]
  },
  {
   "cell_type": "code",
   "execution_count": 7,
   "metadata": {},
   "outputs": [],
   "source": [
    "import numpy\n",
    "\n",
    "def envActionFromAction(action, home_turn):\n",
    "    env_action = (\"skip\")\n",
    "    if action == 0:\n",
    "        pass\n",
    "    elif(action < n_actions - 4):\n",
    "        action_attack = action - 1\n",
    "        env_action = (\"attack\", [home_turn, action_attack // 8], [1 - home_turn, action_attack % 8])\n",
    "    else:\n",
    "        env_action = (\"play\", action - (n_actions - 4))\n",
    "    return env_action\n",
    "\n",
    "def play_and_record(agent, session, n_steps = 1000, home_turn=0):\n",
    "    rewards = 0\n",
    "    \n",
    "    states_log = []\n",
    "    actions_log = []\n",
    "    rewards_log = []\n",
    "    final_state = None\n",
    "    final_r = 0\n",
    "    state = createStateObservation(session.getObservation())\n",
    "    is_done = False\n",
    "    \n",
    "    for i in range(n_steps):\n",
    "        \n",
    "        table = session.getObservation()[\"battleGround\"][\"table\"]\n",
    "        hits_diff = table[home_turn][0][2] - table[1 - home_turn][0][2]\n",
    "        \n",
    "        states_log.append(state)\n",
    "        #get actions\n",
    "        actions = session.getValidActions()\n",
    "        log_softmax_action = agent.get_qvalues([state])\n",
    "        softmax_action = torch.exp(log_softmax_action)\n",
    "        qvalues = softmax_action.data.cpu().numpy()\n",
    "        valid_actions = [[]]\n",
    "        for i in range(n_actions):\n",
    "            env_action = envActionFromAction(i, home_turn)\n",
    "            valid_actions[0].append(env_action in actions)\n",
    "            \n",
    "        #get valid action from network\n",
    "        action = agent.sample_actions(qvalues, np.array(valid_actions))[0]\n",
    "        one_hot_action = [int(k == action) for k in range(n_actions)]\n",
    "        actions_log.append(one_hot_action)\n",
    "        \n",
    "        #step\n",
    "        env_action = envActionFromAction(action, home_turn)\n",
    "        next_s = session.action(env_action)\n",
    "        \n",
    "        endGame = next_s[\"end\"]\n",
    "        \n",
    "        #enemy turn\n",
    "        if (next_s[\"turn\"] != home_turn) and not endGame:\n",
    "            next_s = session.action((\"skip\"))\n",
    "            endGame = next_s[\"end\"]\n",
    "        \n",
    "        #calc reward\n",
    "        table = next_s[\"battleGround\"][\"table\"]\n",
    "        reward = table[home_turn][0][2] - table[1 - home_turn][0][2] - hits_diff - 0.1\n",
    "        rewards_log.append(reward)\n",
    "        \n",
    "        final_state = next_s\n",
    "        \n",
    "        #morph game state to network state\n",
    "        next_s = createStateObservation(next_s)\n",
    "        \n",
    "        state = next_s\n",
    "        \n",
    "        if endGame:\n",
    "            is_done = True\n",
    "            session.reset()\n",
    "            break\n",
    "\n",
    "    if not is_done:\n",
    "        final_r = value_network(Variable(torch.Tensor([createStateObservation(final_state)]))).cpu().data.numpy()\n",
    "\n",
    "    return states_log, actions_log, rewards_log, final_r, final_state"
   ]
  },
  {
   "cell_type": "code",
   "execution_count": 8,
   "metadata": {},
   "outputs": [
    {
     "name": "stderr",
     "output_type": "stream",
     "text": [
      "C:\\Users\\GospodinNoob\\rl_ccg\\a2c_v1.py:47: UserWarning: Implicit dimension choice for log_softmax has been deprecated. Change the call to include dim=X as an argument.\n",
      "  out = F.log_softmax(qvalues)\n"
     ]
    },
    {
     "data": {
      "text/plain": [
       "[-0.1, -0.1, -0.1, -0.1, -0.1, -0.1, -0.1, -0.1, 1.9, -0.1]"
      ]
     },
     "execution_count": 8,
     "metadata": {},
     "output_type": "execute_result"
    }
   ],
   "source": [
    "#exp_replay = ReplayBuffer(1000)\n",
    "_, _, rewards_log, _, _ = play_and_record(actor_network, session, n_steps=10, home_turn=0)\n",
    "rewards_log"
   ]
  },
  {
   "cell_type": "markdown",
   "metadata": {},
   "source": [
    "### Training"
   ]
  },
  {
   "cell_type": "code",
   "execution_count": 9,
   "metadata": {},
   "outputs": [],
   "source": [
    "from tqdm import trange\n",
    "from IPython.display import clear_output\n",
    "import matplotlib.pyplot as plt\n",
    "%matplotlib inline\n",
    "\n",
    "state = session.reset()\n",
    "state_dim = len(createStateObservation(session.getObservation()))\n",
    "n_actions = 1 + 7 * 8 + 4\n",
    "\n",
    "value_network = ValueNetwork(state_dim)\n",
    "value_network_optim = torch.optim.Adam(value_network.parameters(), lr=0.01)\n",
    "\n",
    "actor_network = ActorNetwork(state_dim ,n_actions)\n",
    "actor_network_optim = torch.optim.Adam(actor_network.parameters(), lr = 0.01)\n",
    "\n",
    "discount = 0.99\n",
    "\n",
    "home_turn = 0"
   ]
  },
  {
   "cell_type": "code",
   "execution_count": 10,
   "metadata": {},
   "outputs": [],
   "source": [
    "mean_rewards = []\n",
    "mean_hits_diff = []\n",
    "mean_enemy_core_hits = []\n",
    "mean_win = []\n",
    "mean_loss_actor = []\n",
    "mean_loss_value = []"
   ]
  },
  {
   "cell_type": "code",
   "execution_count": 11,
   "metadata": {},
   "outputs": [],
   "source": [
    "def discount_reward(r, gamma, final_r):\n",
    "    discounted_r = np.zeros_like(r)\n",
    "    running_add = final_r\n",
    "    for t in reversed(range(0, len(r))):\n",
    "        running_add = running_add * gamma + r[t]\n",
    "        discounted_r[t] = running_add\n",
    "    return discounted_r"
   ]
  },
  {
   "cell_type": "code",
   "execution_count": 12,
   "metadata": {},
   "outputs": [
    {
     "data": {
      "text/plain": [
       "<Figure size 432x288 with 0 Axes>"
      ]
     },
     "metadata": {},
     "output_type": "display_data"
    },
    {
     "data": {
      "image/png": "[encoded data removed]",
      "text/plain": [
       "<Figure size 1440x576 with 5 Axes>"
      ]
     },
     "metadata": {},
     "output_type": "display_data"
    },
    {
     "name": "stderr",
     "output_type": "stream",
     "text": [
      "  0%|▏                                                                         | 1049/400000 [01:00<6:10:15, 17.96it/s]"
     ]
    },
    {
     "ename": "KeyboardInterrupt",
     "evalue": "",
     "output_type": "error",
     "traceback": [
      "\u001b[1;31m---------------------------------------------------------------------------\u001b[0m",
      "\u001b[1;31mKeyboardInterrupt\u001b[0m                         Traceback (most recent call last)",
      "\u001b[1;32m<ipython-input-12-cf7bb8c8a518>\u001b[0m in \u001b[0;36m<module>\u001b[1;34m()\u001b[0m\n\u001b[0;32m     53\u001b[0m \u001b[1;33m\u001b[0m\u001b[0m\n\u001b[0;32m     54\u001b[0m             \u001b[1;32mfor\u001b[0m \u001b[0mi\u001b[0m \u001b[1;32min\u001b[0m \u001b[0mrange\u001b[0m\u001b[1;33m(\u001b[0m\u001b[0meval_games\u001b[0m\u001b[1;33m)\u001b[0m\u001b[1;33m:\u001b[0m\u001b[1;33m\u001b[0m\u001b[0m\n\u001b[1;32m---> 55\u001b[1;33m                 \u001b[0m_\u001b[0m\u001b[1;33m,\u001b[0m \u001b[0m_\u001b[0m\u001b[1;33m,\u001b[0m \u001b[0mrewards_log\u001b[0m\u001b[1;33m,\u001b[0m \u001b[0m_\u001b[0m\u001b[1;33m,\u001b[0m \u001b[0mfinal_state\u001b[0m \u001b[1;33m=\u001b[0m \u001b[0mplay_and_record\u001b[0m\u001b[1;33m(\u001b[0m\u001b[0mactor_network\u001b[0m\u001b[1;33m,\u001b[0m \u001b[0msession\u001b[0m\u001b[1;33m,\u001b[0m \u001b[0mn_steps\u001b[0m\u001b[1;33m=\u001b[0m\u001b[1;36m1000\u001b[0m\u001b[1;33m,\u001b[0m \u001b[0mhome_turn\u001b[0m\u001b[1;33m=\u001b[0m\u001b[1;36m0\u001b[0m\u001b[1;33m)\u001b[0m\u001b[1;33m\u001b[0m\u001b[0m\n\u001b[0m\u001b[0;32m     56\u001b[0m \u001b[1;33m\u001b[0m\u001b[0m\n\u001b[0;32m     57\u001b[0m                 \u001b[0mtable\u001b[0m \u001b[1;33m=\u001b[0m \u001b[0mfinal_state\u001b[0m\u001b[1;33m[\u001b[0m\u001b[1;34m\"battleGround\"\u001b[0m\u001b[1;33m]\u001b[0m\u001b[1;33m[\u001b[0m\u001b[1;34m\"table\"\u001b[0m\u001b[1;33m]\u001b[0m\u001b[1;33m\u001b[0m\u001b[0m\n",
      "\u001b[1;32m<ipython-input-7-cf5beb4d7db9>\u001b[0m in \u001b[0;36mplay_and_record\u001b[1;34m(agent, session, n_steps, home_turn)\u001b[0m\n\u001b[0;32m     31\u001b[0m         \u001b[1;31m#get actions\u001b[0m\u001b[1;33m\u001b[0m\u001b[1;33m\u001b[0m\u001b[0m\n\u001b[0;32m     32\u001b[0m         \u001b[0mactions\u001b[0m \u001b[1;33m=\u001b[0m \u001b[0msession\u001b[0m\u001b[1;33m.\u001b[0m\u001b[0mgetValidActions\u001b[0m\u001b[1;33m(\u001b[0m\u001b[1;33m)\u001b[0m\u001b[1;33m\u001b[0m\u001b[0m\n\u001b[1;32m---> 33\u001b[1;33m         \u001b[0mlog_softmax_action\u001b[0m \u001b[1;33m=\u001b[0m \u001b[0magent\u001b[0m\u001b[1;33m.\u001b[0m\u001b[0mget_qvalues\u001b[0m\u001b[1;33m(\u001b[0m\u001b[1;33m[\u001b[0m\u001b[0mstate\u001b[0m\u001b[1;33m]\u001b[0m\u001b[1;33m)\u001b[0m\u001b[1;33m\u001b[0m\u001b[0m\n\u001b[0m\u001b[0;32m     34\u001b[0m         \u001b[0msoftmax_action\u001b[0m \u001b[1;33m=\u001b[0m \u001b[0mtorch\u001b[0m\u001b[1;33m.\u001b[0m\u001b[0mexp\u001b[0m\u001b[1;33m(\u001b[0m\u001b[0mlog_softmax_action\u001b[0m\u001b[1;33m)\u001b[0m\u001b[1;33m\u001b[0m\u001b[0m\n\u001b[0;32m     35\u001b[0m         \u001b[0mqvalues\u001b[0m \u001b[1;33m=\u001b[0m \u001b[0msoftmax_action\u001b[0m\u001b[1;33m.\u001b[0m\u001b[0mdata\u001b[0m\u001b[1;33m.\u001b[0m\u001b[0mcpu\u001b[0m\u001b[1;33m(\u001b[0m\u001b[1;33m)\u001b[0m\u001b[1;33m.\u001b[0m\u001b[0mnumpy\u001b[0m\u001b[1;33m(\u001b[0m\u001b[1;33m)\u001b[0m\u001b[1;33m\u001b[0m\u001b[0m\n",
      "\u001b[1;32m~\\rl_ccg\\a2c_v1.py\u001b[0m in \u001b[0;36mget_qvalues\u001b[1;34m(self, states)\u001b[0m\n\u001b[0;32m     43\u001b[0m \u001b[1;33m\u001b[0m\u001b[0m\n\u001b[0;32m     44\u001b[0m     \u001b[1;32mdef\u001b[0m \u001b[0mget_qvalues\u001b[0m\u001b[1;33m(\u001b[0m\u001b[0mself\u001b[0m\u001b[1;33m,\u001b[0m \u001b[0mstates\u001b[0m\u001b[1;33m)\u001b[0m\u001b[1;33m:\u001b[0m\u001b[1;33m\u001b[0m\u001b[0m\n\u001b[1;32m---> 45\u001b[1;33m         \u001b[0mstates\u001b[0m \u001b[1;33m=\u001b[0m \u001b[0mVariable\u001b[0m\u001b[1;33m(\u001b[0m\u001b[0mtorch\u001b[0m\u001b[1;33m.\u001b[0m\u001b[0mFloatTensor\u001b[0m\u001b[1;33m(\u001b[0m\u001b[0mnp\u001b[0m\u001b[1;33m.\u001b[0m\u001b[0masarray\u001b[0m\u001b[1;33m(\u001b[0m\u001b[0mstates\u001b[0m\u001b[1;33m)\u001b[0m\u001b[1;33m)\u001b[0m\u001b[1;33m)\u001b[0m\u001b[1;33m\u001b[0m\u001b[0m\n\u001b[0m\u001b[0;32m     46\u001b[0m         \u001b[0mqvalues\u001b[0m \u001b[1;33m=\u001b[0m \u001b[0mself\u001b[0m\u001b[1;33m.\u001b[0m\u001b[0mforward\u001b[0m\u001b[1;33m(\u001b[0m\u001b[0mstates\u001b[0m\u001b[1;33m)\u001b[0m\u001b[1;33m\u001b[0m\u001b[0m\n\u001b[0;32m     47\u001b[0m         \u001b[0mout\u001b[0m \u001b[1;33m=\u001b[0m \u001b[0mF\u001b[0m\u001b[1;33m.\u001b[0m\u001b[0mlog_softmax\u001b[0m\u001b[1;33m(\u001b[0m\u001b[0mqvalues\u001b[0m\u001b[1;33m)\u001b[0m\u001b[1;33m\u001b[0m\u001b[0m\n",
      "\u001b[1;31mKeyboardInterrupt\u001b[0m: "
     ]
    },
    {
     "data": {
      "text/plain": [
       "<Figure size 432x288 with 0 Axes>"
      ]
     },
     "metadata": {},
     "output_type": "display_data"
    },
    {
     "name": "stderr",
     "output_type": "stream",
     "text": [
      "\r",
      "  0%|▏                                                                         | 1049/400000 [01:20<6:10:15, 17.96it/s]"
     ]
    }
   ],
   "source": [
    "import pickle\n",
    "np.random.seed(0)\n",
    "torch.manual_seed(0)\n",
    "\n",
    "state = session.reset()\n",
    "batch_loss_actor = []\n",
    "batch_loss_value = []\n",
    "for i in trange(4 * 10**5):\n",
    "    \n",
    "    \n",
    "    states, actions, rewards, final_r, _ =  play_and_record(actor_network, session, n_steps=30, home_turn=home_turn)\n",
    "    \n",
    "    actions_var = Variable(torch.Tensor(actions).view(-1, n_actions))\n",
    "    states_var = Variable(torch.Tensor(states).view(-1, state_dim))\n",
    "\n",
    "    # train actor network\n",
    "    actor_network_optim.zero_grad()\n",
    "    log_softmax_actions = actor_network(states_var)\n",
    "    vs = value_network(states_var).detach()\n",
    "    \n",
    "    # calculate qs\n",
    "    qs = Variable(torch.Tensor(discount_reward(rewards, discount, final_r)))\n",
    "\n",
    "    advantages = qs - vs\n",
    "    actor_network_loss = -torch.mean(torch.sum(log_softmax_actions * actions_var, 1) * advantages)\n",
    "    batch_loss_actor.append(actor_network_loss.detach().numpy())\n",
    "    actor_network_loss.backward()\n",
    "    torch.nn.utils.clip_grad_norm(actor_network.parameters(), 0.5)\n",
    "    actor_network_optim.step()\n",
    "\n",
    "    # train value network\n",
    "    value_network_optim.zero_grad()\n",
    "    target_values = qs\n",
    "    values = value_network(states_var)\n",
    "    criterion = nn.MSELoss()\n",
    "    value_network_loss = criterion(values, target_values)\n",
    "    batch_loss_value.append(value_network_loss.detach().numpy())\n",
    "    value_network_loss.backward()\n",
    "    torch.nn.utils.clip_grad_norm(value_network.parameters(), 0.5)\n",
    "    value_network_optim.step()\n",
    "    \n",
    "    actor_network.epsilon *= 0.99\n",
    "\n",
    "    # Testing\n",
    "    if (i + 1) % 50== 0:\n",
    "            session.reset()\n",
    "            rewards_eval = []\n",
    "            hits_diff = []\n",
    "            wins = []\n",
    "            enemy_core_hits = []\n",
    "            \n",
    "            eval_games = 20\n",
    "            \n",
    "            for i in range(eval_games):\n",
    "                _, _, rewards_log, _, final_state = play_and_record(actor_network, session, n_steps=1000, home_turn=0)\n",
    "                \n",
    "                table = final_state[\"battleGround\"][\"table\"]\n",
    "                hits_d = table[home_turn][0][2] - table[1 - home_turn][0][2]\n",
    "                \n",
    "                enemy_core_hits.append(table[1 - home_turn][0][2])\n",
    "                rewards_eval.append(np.sum(rewards_log))\n",
    "                hits_diff.append(hits_d)\n",
    "                wins.append(final_state[\"winner\"])\n",
    "            \n",
    "            mean_enemy_core_hits.append(np.mean(enemy_core_hits))\n",
    "            mean_hits_diff.append(np.mean(hits_diff))\n",
    "           \n",
    "            mean_win.append(np.count_nonzero(np.array(wins) == (1 - home_turn)) / eval_games)\n",
    "                \n",
    "            mean_rewards.append(np.mean(rewards_eval))\n",
    "            mean_loss_actor.append(np.mean(batch_loss_actor))\n",
    "            mean_loss_value.append(np.mean(batch_loss_value))\n",
    "            \n",
    "            batch_loss_actor = []\n",
    "            batch_loss_value = []\n",
    "            \n",
    "            log_dict = dict()\n",
    "            log_dict[\"mean_rewards\"] = mean_rewards\n",
    "            log_dict[\"mean_loss_actor\"] = mean_loss_actor\n",
    "            log_dict[\"mean_loss_value\"] = mean_loss_value\n",
    "            log_dict[\"mean_win\"] = mean_win\n",
    "            log_dict[\"mean_hits_diff\"] = mean_hits_diff\n",
    "            \n",
    "            with open('log_a2c_v1.pickle', 'wb') as f:\n",
    "                pickle.dump(log_dict, f)\n",
    "            \n",
    "            clear_output(True)\n",
    "            \n",
    "            plt.figure(figsize=[20, 8])    \n",
    "            plt.subplot(2, 3, 1)\n",
    "            plt.title(\"mean reward per game\")\n",
    "            plt.plot(range(len(mean_rewards)), mean_rewards)\n",
    "            plt.grid()\n",
    "            \n",
    "            plt.subplot(2, 3, 2)\n",
    "            plt.title(\"actor loss\")\n",
    "            plt.plot(range(len(mean_loss_actor)), mean_loss_actor)\n",
    "            plt.grid()\n",
    "            \n",
    "            plt.subplot(2, 3, 3)\n",
    "            plt.title(\"value loss\")\n",
    "            plt.plot(range(len(mean_loss_value)), mean_loss_value)\n",
    "            plt.grid()\n",
    "            \n",
    "            plt.subplot(2, 3, 4)\n",
    "            plt.title(\"hits diff\")\n",
    "            plt.plot(range(len(mean_hits_diff)), mean_hits_diff)\n",
    "            #plt.plot(range(len(mean_enemy_core_hits)), mean_enemy_core_hits)\n",
    "            plt.grid()\n",
    "            \n",
    "            plt.subplot(2, 3, 5)\n",
    "            plt.title(\"winrate\")\n",
    "            plt.plot(range(len(mean_win)), mean_win)\n",
    "            plt.grid()\n",
    "            plt.show()\n",
    "\n",
    "            plt.savefig(\"a2c_v1.png\");\n",
    "    "
   ]
  },
  {
   "cell_type": "code",
   "execution_count": null,
   "metadata": {},
   "outputs": [],
   "source": []
  }
 ],
 "metadata": {
  "kernelspec": {
   "display_name": "Python 3",
   "language": "python",
   "name": "python3"
  },
  "language_info": {
   "codemirror_mode": {
    "name": "ipython",
    "version": 3
   },
   "file_extension": ".py",
   "mimetype": "text/x-python",
   "name": "python",
   "nbconvert_exporter": "python",
   "pygments_lexer": "ipython3",
   "version": "3.6.5"
  }
 },
 "nbformat": 4,
 "nbformat_minor": 2
}
