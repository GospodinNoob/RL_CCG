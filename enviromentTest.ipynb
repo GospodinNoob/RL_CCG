{
 "cells": [
  {
   "cell_type": "code",
   "execution_count": 1,
   "metadata": {},
   "outputs": [],
   "source": [
    "import cards as ccg\n",
    "import pandas as pd\n",
    "import numpy as np\n",
    "\n",
    "cards = pd.read_csv('cardsTable.csv')\n",
    "cardsList = [ccg.Minion(i) for i in cards.values.tolist()]\n",
    "\n",
    "cores = pd.read_csv('cores.csv')\n",
    "coreList = [ccg.Core(i) for i in cores.values.tolist()]\n",
    "\n",
    "playersNum = 2\n",
    "piles = [[ccg.Pile(cardsList, 10) for _ in range(4)] for I in range(playersNum)]\n",
    "cores = np.random.choice(coreList, 2)\n",
    "decks = [ccg.Deck(cores[i], piles[i], i) for i in range(playersNum)]"
   ]
  },
  {
   "cell_type": "code",
   "execution_count": 2,
   "metadata": {},
   "outputs": [],
   "source": [
    "session = ccg.Session(decks)"
   ]
  },
  {
   "cell_type": "code",
   "execution_count": 3,
   "metadata": {},
   "outputs": [
    {
     "data": {
      "text/plain": [
       "{'battleGround': {'grave': [[], []],\n",
       "  'table': [[(0, 0, 30, 30, 1, 1)], [(0, 0, 30, 30, 1, 1)]]},\n",
       " 'piles': [[(10, (3, 3, 0, 4, 4, True)),\n",
       "   (10, (1, 2, 0, 1, 1, True)),\n",
       "   (10, (1, 2, 0, 1, 1, True)),\n",
       "   (10, (1, 2, 0, 1, 1, True))],\n",
       "  [(10, None), (10, None), (10, None), (10, None)]],\n",
       " 'hands': [(0, []), (0, [])],\n",
       " 'winner': -1,\n",
       " 'turn': 0,\n",
       " 'end': False}"
      ]
     },
     "execution_count": 3,
     "metadata": {},
     "output_type": "execute_result"
    }
   ],
   "source": [
    "session.getObservation()"
   ]
  },
  {
   "cell_type": "code",
   "execution_count": 4,
   "metadata": {},
   "outputs": [
    {
     "data": {
      "text/plain": [
       "['skip',\n",
       " ('play', 1),\n",
       " ('play', 2),\n",
       " ('play', 3),\n",
       " ('move', 0),\n",
       " ('move', 1),\n",
       " ('move', 2),\n",
       " ('move', 3)]"
      ]
     },
     "execution_count": 4,
     "metadata": {},
     "output_type": "execute_result"
    }
   ],
   "source": [
    "session.getValidActions()"
   ]
  },
  {
   "cell_type": "code",
   "execution_count": 5,
   "metadata": {},
   "outputs": [
    {
     "data": {
      "text/plain": [
       "{'battleGround': {'grave': [[], []],\n",
       "  'table': [[(0, 0, 30, 30, 0, 1), (1, 2, 0, 1, 1, True)],\n",
       "   [(0, 0, 30, 30, 1, 1)]]},\n",
       " 'piles': [[(10, (3, 3, 0, 4, 4, True)),\n",
       "   (9, (2, 2, 0, 3, 3, True)),\n",
       "   (10, (1, 2, 0, 1, 1, True)),\n",
       "   (10, (1, 2, 0, 1, 1, True))],\n",
       "  [(10, None), (10, None), (10, None), (10, None)]],\n",
       " 'hands': [(0, []), (0, [])],\n",
       " 'winner': -1,\n",
       " 'turn': 0,\n",
       " 'end': False}"
      ]
     },
     "execution_count": 5,
     "metadata": {},
     "output_type": "execute_result"
    }
   ],
   "source": [
    "session.action((\"play\", 1))"
   ]
  },
  {
   "cell_type": "code",
   "execution_count": 6,
   "metadata": {},
   "outputs": [
    {
     "data": {
      "text/plain": [
       "{'battleGround': {'grave': [[], []],\n",
       "  'table': [[(0, 0, 30, 30, 2, 2), (1, 2, 0, 1, 1, False)],\n",
       "   [(0, 0, 30, 30, 2, 2)]]},\n",
       " 'piles': [[(10, (3, 3, 0, 4, 4, True)),\n",
       "   (9, (2, 2, 0, 3, 3, True)),\n",
       "   (10, (1, 2, 0, 1, 1, False)),\n",
       "   (10, (1, 2, 0, 1, 1, False))],\n",
       "  [(10, None), (10, None), (10, None), (10, None)]],\n",
       " 'hands': [(0, []), (0, [])],\n",
       " 'winner': -1,\n",
       " 'turn': 0,\n",
       " 'end': False}"
      ]
     },
     "execution_count": 6,
     "metadata": {},
     "output_type": "execute_result"
    }
   ],
   "source": [
    "session.action((\"skip\"))\n",
    "session.action((\"skip\"))"
   ]
  },
  {
   "cell_type": "code",
   "execution_count": 7,
   "metadata": {},
   "outputs": [
    {
     "data": {
      "text/plain": [
       "{'battleGround': {'grave': [[], []],\n",
       "  'table': [[(0, 0, 30, 30, 2, 2), (1, 2, 0, 1, 1, False)],\n",
       "   [(0, 0, 30, 30, 2, 2)]]},\n",
       " 'piles': [[(10, (3, 3, 0, 4, 4, True)),\n",
       "   (8, (1, 2, 0, 1, 1, False)),\n",
       "   (10, (1, 2, 0, 1, 1, False)),\n",
       "   (10, (1, 2, 0, 1, 1, False))],\n",
       "  [(10, None), (10, None), (10, None), (10, None)]],\n",
       " 'hands': [(1, [(2, 2, 0, 3, 3, True)]), (0, [])],\n",
       " 'winner': -1,\n",
       " 'turn': 0,\n",
       " 'end': False}"
      ]
     },
     "execution_count": 7,
     "metadata": {},
     "output_type": "execute_result"
    }
   ],
   "source": [
    "session.action((\"move\", 1))"
   ]
  },
  {
   "cell_type": "code",
   "execution_count": 8,
   "metadata": {},
   "outputs": [
    {
     "data": {
      "text/plain": [
       "{'battleGround': {'grave': [[], []],\n",
       "  'table': [[(0, 0, 30, 30, 0, 2),\n",
       "    (1, 2, 0, 1, 1, False),\n",
       "    (2, 2, 0, 3, 3, True)],\n",
       "   [(0, 0, 30, 30, 2, 2)]]},\n",
       " 'piles': [[(10, (3, 3, 0, 4, 4, True)),\n",
       "   (8, (1, 2, 0, 1, 1, False)),\n",
       "   (10, (1, 2, 0, 1, 1, False)),\n",
       "   (10, (1, 2, 0, 1, 1, False))],\n",
       "  [(10, None), (10, None), (10, None), (10, None)]],\n",
       " 'hands': [(0, []), (0, [])],\n",
       " 'winner': -1,\n",
       " 'turn': 0,\n",
       " 'end': False}"
      ]
     },
     "execution_count": 8,
     "metadata": {},
     "output_type": "execute_result"
    }
   ],
   "source": [
    "session.action((\"play_hand\", 0))"
   ]
  },
  {
   "cell_type": "code",
   "execution_count": 11,
   "metadata": {},
   "outputs": [],
   "source": [
    "import random\n",
    "\n",
    "def playFullGame(session):\n",
    "    endGame = False\n",
    "    winner = -1\n",
    "    while not endGame:\n",
    "        actions = session.getValidActions()\n",
    "        if len(actions) > 1:\n",
    "            state = session.action(random.choice(actions[1:]))\n",
    "        else:\n",
    "            state = session.action(actions[0])\n",
    "        endGame = state[\"end\"]\n",
    "        winner = state[\"winner\"]\n",
    "    return winner"
   ]
  },
  {
   "cell_type": "code",
   "execution_count": 12,
   "metadata": {},
   "outputs": [
    {
     "name": "stdout",
     "output_type": "stream",
     "text": [
      "0.999\n"
     ]
    },
    {
     "data": {
      "text/plain": [
       "{-1: 922, 0: 56, 1: 22}"
      ]
     },
     "execution_count": 12,
     "metadata": {},
     "output_type": "execute_result"
    }
   ],
   "source": [
    "from IPython.display import clear_output\n",
    "\n",
    "stat = dict()\n",
    "stat[-1] = 0\n",
    "stat[0] = 0\n",
    "stat[1] = 0\n",
    "session.reset()\n",
    "def playRandom():\n",
    "    for i in range(1000):\n",
    "        stat[playFullGame(session)] += 1\n",
    "        session.reset()\n",
    "        clear_output()\n",
    "        print(i / 1000)\n",
    "        \n",
    "playRandom()\n",
    "    \n",
    "stat"
   ]
  },
  {
   "cell_type": "code",
   "execution_count": null,
   "metadata": {},
   "outputs": [],
   "source": []
  }
 ],
 "metadata": {
  "kernelspec": {
   "display_name": "Python 3",
   "language": "python",
   "name": "python3"
  },
  "language_info": {
   "codemirror_mode": {
    "name": "ipython",
    "version": 3
   },
   "file_extension": ".py",
   "mimetype": "text/x-python",
   "name": "python",
   "nbconvert_exporter": "python",
   "pygments_lexer": "ipython3",
   "version": "3.6.5"
  }
 },
 "nbformat": 4,
 "nbformat_minor": 2
}
