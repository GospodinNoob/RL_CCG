{
 "cells": [
  {
   "cell_type": "code",
   "execution_count": 1,
   "metadata": {},
   "outputs": [],
   "source": [
    "import sys\n",
    "sys.path.insert(0, 'env')\n",
    "sys.path.insert(0, 'lib')\n",
    "\n",
    "import ccg\n",
    "from agents import ARagent, A2Cagent, SkipAgent\n",
    "import pandas as pd\n",
    "import numpy as np\n",
    "import copy\n",
    "import random\n",
    "import torch\n",
    "import utils\n",
    "seed = 1231432\n",
    "\n",
    "np.random.seed(seed)\n",
    "torch.manual_seed(seed)\n",
    "random.seed(seed)\n",
    "\n",
    "cards = pd.read_csv('env/configue/cardsTable.csv')\n",
    "cardsList = [ccg.Minion(i) for i in cards.values.tolist()]\n",
    "\n",
    "cores = pd.read_csv('env/configue/cores.csv')\n",
    "coreList = [ccg.Core(i) for i in cores.values.tolist()]\n",
    "\n",
    "playersNum = 2\n",
    "piles_player = [ccg.Pile(cardsList, 10) for _ in range(4)]\n",
    "piles = [copy.deepcopy(piles_player) for _ in range(playersNum)]\n",
    "cores = np.random.choice(coreList, 2)\n",
    "decks = [ccg.Deck(cores[i], piles[i], i) for i in range(playersNum)]"
   ]
  },
  {
   "cell_type": "code",
   "execution_count": 2,
   "metadata": {},
   "outputs": [
    {
     "data": {
      "text/html": [
       "<div>\n",
       "<style scoped>\n",
       "    .dataframe tbody tr th:only-of-type {\n",
       "        vertical-align: middle;\n",
       "    }\n",
       "\n",
       "    .dataframe tbody tr th {\n",
       "        vertical-align: top;\n",
       "    }\n",
       "\n",
       "    .dataframe thead th {\n",
       "        text-align: right;\n",
       "    }\n",
       "</style>\n",
       "<table border=\"1\" class=\"dataframe\">\n",
       "  <thead>\n",
       "    <tr style=\"text-align: right;\">\n",
       "      <th></th>\n",
       "      <th>keyName</th>\n",
       "      <th>type</th>\n",
       "      <th>damage</th>\n",
       "      <th>armour</th>\n",
       "      <th>maxHealth</th>\n",
       "      <th>cost</th>\n",
       "      <th>priority</th>\n",
       "      <th>charge</th>\n",
       "      <th>baseActivations</th>\n",
       "    </tr>\n",
       "  </thead>\n",
       "  <tbody>\n",
       "    <tr>\n",
       "      <th>0</th>\n",
       "      <td>HS_PUDDLESTOMPER</td>\n",
       "      <td>minion</td>\n",
       "      <td>3</td>\n",
       "      <td>0</td>\n",
       "      <td>2</td>\n",
       "      <td>2</td>\n",
       "      <td>0</td>\n",
       "      <td>0</td>\n",
       "      <td>1</td>\n",
       "    </tr>\n",
       "    <tr>\n",
       "      <th>1</th>\n",
       "      <td>HS_RIVER_CROCOLISK</td>\n",
       "      <td>minion</td>\n",
       "      <td>2</td>\n",
       "      <td>0</td>\n",
       "      <td>3</td>\n",
       "      <td>2</td>\n",
       "      <td>0</td>\n",
       "      <td>0</td>\n",
       "      <td>1</td>\n",
       "    </tr>\n",
       "    <tr>\n",
       "      <th>2</th>\n",
       "      <td>HS_THRALLMAR_FARSEER</td>\n",
       "      <td>minion</td>\n",
       "      <td>2</td>\n",
       "      <td>0</td>\n",
       "      <td>3</td>\n",
       "      <td>3</td>\n",
       "      <td>0</td>\n",
       "      <td>0</td>\n",
       "      <td>2</td>\n",
       "    </tr>\n",
       "    <tr>\n",
       "      <th>3</th>\n",
       "      <td>HS_DUSKBOAR</td>\n",
       "      <td>minion</td>\n",
       "      <td>4</td>\n",
       "      <td>0</td>\n",
       "      <td>1</td>\n",
       "      <td>2</td>\n",
       "      <td>0</td>\n",
       "      <td>0</td>\n",
       "      <td>1</td>\n",
       "    </tr>\n",
       "  </tbody>\n",
       "</table>\n",
       "</div>"
      ],
      "text/plain": [
       "                keyName    type  damage  armour  maxHealth  cost  priority  \\\n",
       "0      HS_PUDDLESTOMPER  minion       3       0          2     2         0   \n",
       "1    HS_RIVER_CROCOLISK  minion       2       0          3     2         0   \n",
       "2  HS_THRALLMAR_FARSEER  minion       2       0          3     3         0   \n",
       "3           HS_DUSKBOAR  minion       4       0          1     2         0   \n",
       "\n",
       "   charge  baseActivations  \n",
       "0       0                1  \n",
       "1       0                1  \n",
       "2       0                2  \n",
       "3       0                1  "
      ]
     },
     "execution_count": 2,
     "metadata": {},
     "output_type": "execute_result"
    }
   ],
   "source": [
    "cards"
   ]
  },
  {
   "cell_type": "code",
   "execution_count": 3,
   "metadata": {},
   "outputs": [],
   "source": [
    "session = ccg.Session(cardsList, coreList, 2)\n",
    "session2 = ccg.Session(cardsList, coreList, 2)"
   ]
  },
  {
   "cell_type": "code",
   "execution_count": 4,
   "metadata": {},
   "outputs": [],
   "source": [
    "def plan_mcts(root,n_iters=10):\n",
    "    for _ in range(n_iters):\n",
    "        node = root.select_best_leaf()\n",
    "        if node.is_done:\n",
    "            node.propagate(0)\n",
    "        else:\n",
    "            node.expand()\n",
    "            rew = node.rollout()\n",
    "            node.propagate(rew)"
   ]
  },
  {
   "cell_type": "code",
   "execution_count": 5,
   "metadata": {
    "scrolled": false
   },
   "outputs": [
    {
     "name": "stdout",
     "output_type": "stream",
     "text": [
      "('move', 3)\n",
      "70\n"
     ]
    }
   ],
   "source": [
    "from agents import Root\n",
    "root = Root(session, 0)\n",
    "plan_mcts(root,n_iters=100)\n",
    "children = root.children\n",
    "m = None\n",
    "best_child = None\n",
    "for i in children:\n",
    "    if(m == None):\n",
    "        best_child = i\n",
    "        m = i.ucb_score() \n",
    "    elif (i.ucb_score() > m):\n",
    "        best_child = i\n",
    "        m = i.ucb_score() \n",
    "print(best_child.action)\n",
    "action = session.actionFromEnvAction(best_child.action)\n",
    "print(action)"
   ]
  },
  {
   "cell_type": "code",
   "execution_count": 6,
   "metadata": {},
   "outputs": [
    {
     "name": "stdout",
     "output_type": "stream",
     "text": [
      "0.4.1\n"
     ]
    }
   ],
   "source": [
    "from __future__ import print_function\n",
    "print(torch.__version__)"
   ]
  },
  {
   "cell_type": "code",
   "execution_count": 7,
   "metadata": {},
   "outputs": [],
   "source": [
    "from trainer import Trainer\n",
    "from agents import ARagent, A2Cagent\n",
    "from nets import ActorNetwork, ValueNetwork\n",
    "from replays import FlatReplay, PrioritizedReplay\n",
    "\n",
    "actor = ActorNetwork(session.processObservation())\n",
    "value = ValueNetwork(session.processObservation())\n",
    "a2cAgent = A2Cagent(actor, value, 0, PrioritizedReplay(), epsilon = 0.0)\n",
    "arAgent = ARagent(1)\n",
    "skipAgent = SkipAgent(1)"
   ]
  },
  {
   "cell_type": "code",
   "execution_count": 8,
   "metadata": {},
   "outputs": [],
   "source": [
    "trainer = Trainer(session, [a2cAgent, arAgent])\n",
    "trainer2 = Trainer(session2, [arAgent, a2cAgent])"
   ]
  },
  {
   "cell_type": "code",
   "execution_count": 9,
   "metadata": {
    "scrolled": false
   },
   "outputs": [
    {
     "name": "stdout",
     "output_type": "stream",
     "text": [
      "Filling buffer\n"
     ]
    },
    {
     "name": "stderr",
     "output_type": "stream",
     "text": [
      "lib\\nets.py:130: UserWarning: Implicit dimension choice for log_softmax has been deprecated. Change the call to include dim=X as an argument.\n",
      "  return self.log_prob(qvalues)\n"
     ]
    },
    {
     "name": "stdout",
     "output_type": "stream",
     "text": [
      "Buffer filled\n"
     ]
    }
   ],
   "source": [
    "from IPython.display import clear_output\n",
    "import matplotlib\n",
    "import matplotlib.pyplot as plt\n",
    "%matplotlib inline\n",
    "\n",
    "wins = dict()\n",
    "wins[-1] = 0\n",
    "wins[0] = 0\n",
    "wins[1] = 0\n",
    "\n",
    "health_adv_log = []\n",
    "actions_num_log = []\n",
    "turns_log = []\n",
    "wins_log = []\n",
    "entropy_log = []\n",
    "\n",
    "actor_loss_log = []\n",
    "value_loss_log = []\n",
    "\n",
    "actor_loss_epoch = []\n",
    "value_loss_epoch = []\n",
    "\n",
    "eps_log = []\n",
    "\n",
    "print(\"Filling buffer\")\n",
    "for i in range(1):\n",
    "    trainer.playGame(record = True, evaluate = False)\n",
    "    trainer2.playGame(record = True, evaluate = False)\n",
    "print(\"Buffer filled\")       \n"
   ]
  },
  {
   "cell_type": "code",
   "execution_count": 10,
   "metadata": {
    "scrolled": false
   },
   "outputs": [
    {
     "name": "stdout",
     "output_type": "stream",
     "text": [
      "0.75\n"
     ]
    },
    {
     "data": {
      "image/png": "[encoded data removed]",
      "text/plain": [
       "<Figure size 936x936 with 8 Axes>"
      ]
     },
     "metadata": {},
     "output_type": "display_data"
    },
    {
     "ename": "KeyboardInterrupt",
     "evalue": "",
     "output_type": "error",
     "traceback": [
      "\u001b[1;31m---------------------------------------------------------------------------\u001b[0m",
      "\u001b[1;31mKeyboardInterrupt\u001b[0m                         Traceback (most recent call last)",
      "\u001b[1;32m<ipython-input-10-3536f9fb11db>\u001b[0m in \u001b[0;36m<module>\u001b[1;34m()\u001b[0m\n\u001b[0;32m      4\u001b[0m \u001b[1;32mfor\u001b[0m \u001b[0mi\u001b[0m \u001b[1;32min\u001b[0m \u001b[0mrange\u001b[0m\u001b[1;33m(\u001b[0m\u001b[1;36m1000\u001b[0m\u001b[1;33m)\u001b[0m\u001b[1;33m:\u001b[0m\u001b[1;33m\u001b[0m\u001b[0m\n\u001b[0;32m      5\u001b[0m     \u001b[1;32mfor\u001b[0m \u001b[0mj\u001b[0m \u001b[1;32min\u001b[0m \u001b[0mrange\u001b[0m\u001b[1;33m(\u001b[0m\u001b[1;36m30\u001b[0m\u001b[1;33m)\u001b[0m\u001b[1;33m:\u001b[0m\u001b[1;33m\u001b[0m\u001b[0m\n\u001b[1;32m----> 6\u001b[1;33m         \u001b[0mtrainer\u001b[0m\u001b[1;33m.\u001b[0m\u001b[0mplaySteps\u001b[0m\u001b[1;33m(\u001b[0m\u001b[1;36m10\u001b[0m\u001b[1;33m,\u001b[0m \u001b[0mreplay_id\u001b[0m \u001b[1;33m=\u001b[0m \u001b[0mstr\u001b[0m\u001b[1;33m(\u001b[0m\u001b[0mi\u001b[0m\u001b[1;33m)\u001b[0m\u001b[1;33m+\u001b[0m\u001b[1;34m\" \"\u001b[0m\u001b[1;33m+\u001b[0m\u001b[0mstr\u001b[0m\u001b[1;33m(\u001b[0m\u001b[0mj\u001b[0m\u001b[1;33m)\u001b[0m\u001b[1;33m+\u001b[0m\u001b[1;34m\"1\"\u001b[0m\u001b[1;33m)\u001b[0m\u001b[1;33m\u001b[0m\u001b[0m\n\u001b[0m\u001b[0;32m      7\u001b[0m         \u001b[0mtrainer2\u001b[0m\u001b[1;33m.\u001b[0m\u001b[0mplaySteps\u001b[0m\u001b[1;33m(\u001b[0m\u001b[1;36m10\u001b[0m\u001b[1;33m,\u001b[0m \u001b[0mreplay_id\u001b[0m \u001b[1;33m=\u001b[0m \u001b[0mstr\u001b[0m\u001b[1;33m(\u001b[0m\u001b[0mi\u001b[0m\u001b[1;33m)\u001b[0m\u001b[1;33m+\u001b[0m\u001b[1;34m\" \"\u001b[0m\u001b[1;33m+\u001b[0m\u001b[0mstr\u001b[0m\u001b[1;33m(\u001b[0m\u001b[0mj\u001b[0m\u001b[1;33m)\u001b[0m\u001b[1;33m+\u001b[0m\u001b[1;34m\"2\"\u001b[0m\u001b[1;33m)\u001b[0m\u001b[1;33m\u001b[0m\u001b[0m\n\u001b[0;32m      8\u001b[0m \u001b[1;33m\u001b[0m\u001b[0m\n",
      "\u001b[1;32m~\\rl_ccg\\lib\\trainer.py\u001b[0m in \u001b[0;36mplaySteps\u001b[1;34m(self, n_steps, session, record, replay_id, evaluate, resetAfterGame)\u001b[0m\n\u001b[0;32m     53\u001b[0m                     \u001b[0mreward\u001b[0m \u001b[1;33m=\u001b[0m \u001b[0mcurSession\u001b[0m\u001b[1;33m.\u001b[0m\u001b[0mgetHealthAdvantage\u001b[0m\u001b[1;33m(\u001b[0m\u001b[0mturn\u001b[0m\u001b[1;33m)\u001b[0m \u001b[1;33m-\u001b[0m \u001b[0moldAdv\u001b[0m\u001b[1;31m# - 0.1\u001b[0m\u001b[1;33m\u001b[0m\u001b[0m\n\u001b[0;32m     54\u001b[0m                     curAgent.record(replay_id,\n\u001b[1;32m---> 55\u001b[1;33m                                     \u001b[0mutils\u001b[0m\u001b[1;33m.\u001b[0m\u001b[0mcreateStateObservation\u001b[0m\u001b[1;33m(\u001b[0m\u001b[0mobservation\u001b[0m\u001b[1;33m)\u001b[0m\u001b[1;33m,\u001b[0m\u001b[1;33m\u001b[0m\u001b[0m\n\u001b[0m\u001b[0;32m     56\u001b[0m                                     \u001b[1;33m[\u001b[0m\u001b[0mint\u001b[0m\u001b[1;33m(\u001b[0m\u001b[0mk\u001b[0m \u001b[1;33m==\u001b[0m \u001b[0maction\u001b[0m\u001b[1;33m)\u001b[0m \u001b[1;32mfor\u001b[0m \u001b[0mk\u001b[0m \u001b[1;32min\u001b[0m \u001b[0mrange\u001b[0m\u001b[1;33m(\u001b[0m\u001b[0mself\u001b[0m\u001b[1;33m.\u001b[0m\u001b[0mn_actions\u001b[0m\u001b[1;33m)\u001b[0m\u001b[1;33m]\u001b[0m\u001b[1;33m,\u001b[0m\u001b[1;33m\u001b[0m\u001b[0m\n\u001b[0;32m     57\u001b[0m                                     \u001b[0mn_observation\u001b[0m\u001b[1;33m,\u001b[0m\u001b[1;33m\u001b[0m\u001b[0m\n",
      "\u001b[1;32m~\\rl_ccg\\lib\\utils.py\u001b[0m in \u001b[0;36mcreateStateObservation\u001b[1;34m(state)\u001b[0m\n\u001b[0;32m     87\u001b[0m \u001b[1;33m\u001b[0m\u001b[0m\n\u001b[0;32m     88\u001b[0m     \u001b[0mobservations\u001b[0m \u001b[1;33m=\u001b[0m \u001b[0mdict\u001b[0m\u001b[1;33m(\u001b[0m\u001b[1;33m)\u001b[0m\u001b[1;33m\u001b[0m\u001b[0m\n\u001b[1;32m---> 89\u001b[1;33m     \u001b[0mobservations\u001b[0m\u001b[1;33m[\u001b[0m\u001b[1;34m\"table\"\u001b[0m\u001b[1;33m]\u001b[0m\u001b[1;33m,\u001b[0m \u001b[0mtables\u001b[0m \u001b[1;33m=\u001b[0m \u001b[0mobservationTable\u001b[0m\u001b[1;33m(\u001b[0m\u001b[0mstate\u001b[0m\u001b[1;33m[\u001b[0m\u001b[1;34m\"battleGround\"\u001b[0m\u001b[1;33m]\u001b[0m\u001b[1;33m[\u001b[0m\u001b[1;34m\"table\"\u001b[0m\u001b[1;33m]\u001b[0m\u001b[1;33m)\u001b[0m\u001b[1;33m\u001b[0m\u001b[0m\n\u001b[0m\u001b[0;32m     90\u001b[0m     \u001b[0mobservations\u001b[0m\u001b[1;33m[\u001b[0m\u001b[1;34m\"piles\"\u001b[0m\u001b[1;33m]\u001b[0m \u001b[1;33m=\u001b[0m \u001b[1;33m[\u001b[0m\u001b[1;33m]\u001b[0m\u001b[1;33m\u001b[0m\u001b[0m\n\u001b[0;32m     91\u001b[0m     \u001b[0mobservations\u001b[0m\u001b[1;33m[\u001b[0m\u001b[1;34m\"hands\"\u001b[0m\u001b[1;33m]\u001b[0m \u001b[1;33m=\u001b[0m \u001b[1;33m[\u001b[0m\u001b[1;33m]\u001b[0m\u001b[1;33m\u001b[0m\u001b[0m\n",
      "\u001b[1;32m~\\rl_ccg\\lib\\utils.py\u001b[0m in \u001b[0;36mobservationTable\u001b[1;34m(table)\u001b[0m\n\u001b[0;32m     46\u001b[0m \u001b[1;33m\u001b[0m\u001b[0m\n\u001b[0;32m     47\u001b[0m     \u001b[1;32mfor\u001b[0m \u001b[0mi\u001b[0m \u001b[1;32min\u001b[0m \u001b[0mrange\u001b[0m\u001b[1;33m(\u001b[0m\u001b[0mlen\u001b[0m\u001b[1;33m(\u001b[0m\u001b[0mtables\u001b[0m\u001b[1;33m)\u001b[0m\u001b[1;33m)\u001b[0m\u001b[1;33m:\u001b[0m\u001b[1;33m\u001b[0m\u001b[0m\n\u001b[1;32m---> 48\u001b[1;33m         \u001b[0mtables\u001b[0m\u001b[1;33m[\u001b[0m\u001b[0mi\u001b[0m\u001b[1;33m]\u001b[0m \u001b[1;33m=\u001b[0m \u001b[0mnp\u001b[0m\u001b[1;33m.\u001b[0m\u001b[0mhstack\u001b[0m\u001b[1;33m(\u001b[0m\u001b[0mtuple\u001b[0m\u001b[1;33m(\u001b[0m\u001b[0mtables\u001b[0m\u001b[1;33m[\u001b[0m\u001b[0mi\u001b[0m\u001b[1;33m]\u001b[0m\u001b[1;33m)\u001b[0m\u001b[1;33m)\u001b[0m\u001b[1;33m\u001b[0m\u001b[0m\n\u001b[0m\u001b[0;32m     49\u001b[0m         \u001b[1;32mfor\u001b[0m \u001b[0mj\u001b[0m \u001b[1;32min\u001b[0m \u001b[0mrange\u001b[0m\u001b[1;33m(\u001b[0m\u001b[0mlen\u001b[0m\u001b[1;33m(\u001b[0m\u001b[0mtables_copy\u001b[0m\u001b[1;33m[\u001b[0m\u001b[0mi\u001b[0m\u001b[1;33m]\u001b[0m\u001b[1;33m)\u001b[0m\u001b[1;33m)\u001b[0m\u001b[1;33m:\u001b[0m\u001b[1;33m\u001b[0m\u001b[0m\n\u001b[0;32m     50\u001b[0m             \u001b[0mtables_copy\u001b[0m\u001b[1;33m[\u001b[0m\u001b[0mi\u001b[0m\u001b[1;33m]\u001b[0m\u001b[1;33m[\u001b[0m\u001b[0mj\u001b[0m\u001b[1;33m]\u001b[0m \u001b[1;33m=\u001b[0m \u001b[0mtables_copy\u001b[0m\u001b[1;33m[\u001b[0m\u001b[0mi\u001b[0m\u001b[1;33m]\u001b[0m\u001b[1;33m[\u001b[0m\u001b[0mj\u001b[0m\u001b[1;33m]\u001b[0m\u001b[1;33m.\u001b[0m\u001b[0mtolist\u001b[0m\u001b[1;33m(\u001b[0m\u001b[1;33m)\u001b[0m\u001b[1;33m\u001b[0m\u001b[0m\n",
      "\u001b[1;32m~\\Anaconda3\\lib\\site-packages\\numpy\\core\\shape_base.py\u001b[0m in \u001b[0;36mhstack\u001b[1;34m(tup)\u001b[0m\n\u001b[0;32m    284\u001b[0m     \u001b[1;31m# As a special case, dimension 0 of 1-dimensional arrays is \"horizontal\"\u001b[0m\u001b[1;33m\u001b[0m\u001b[1;33m\u001b[0m\u001b[0m\n\u001b[0;32m    285\u001b[0m     \u001b[1;32mif\u001b[0m \u001b[0marrs\u001b[0m \u001b[1;32mand\u001b[0m \u001b[0marrs\u001b[0m\u001b[1;33m[\u001b[0m\u001b[1;36m0\u001b[0m\u001b[1;33m]\u001b[0m\u001b[1;33m.\u001b[0m\u001b[0mndim\u001b[0m \u001b[1;33m==\u001b[0m \u001b[1;36m1\u001b[0m\u001b[1;33m:\u001b[0m\u001b[1;33m\u001b[0m\u001b[0m\n\u001b[1;32m--> 286\u001b[1;33m         \u001b[1;32mreturn\u001b[0m \u001b[0m_nx\u001b[0m\u001b[1;33m.\u001b[0m\u001b[0mconcatenate\u001b[0m\u001b[1;33m(\u001b[0m\u001b[0marrs\u001b[0m\u001b[1;33m,\u001b[0m \u001b[1;36m0\u001b[0m\u001b[1;33m)\u001b[0m\u001b[1;33m\u001b[0m\u001b[0m\n\u001b[0m\u001b[0;32m    287\u001b[0m     \u001b[1;32melse\u001b[0m\u001b[1;33m:\u001b[0m\u001b[1;33m\u001b[0m\u001b[0m\n\u001b[0;32m    288\u001b[0m         \u001b[1;32mreturn\u001b[0m \u001b[0m_nx\u001b[0m\u001b[1;33m.\u001b[0m\u001b[0mconcatenate\u001b[0m\u001b[1;33m(\u001b[0m\u001b[0marrs\u001b[0m\u001b[1;33m,\u001b[0m \u001b[1;36m1\u001b[0m\u001b[1;33m)\u001b[0m\u001b[1;33m\u001b[0m\u001b[0m\n",
      "\u001b[1;31mKeyboardInterrupt\u001b[0m: "
     ]
    }
   ],
   "source": [
    "import pickle\n",
    "best_score = -60\n",
    "\n",
    "for i in range(1000):\n",
    "    for j in range(30):\n",
    "        trainer.playSteps(10, replay_id = str(i)+\" \"+str(j)+\"1\")\n",
    "        trainer2.playSteps(10, replay_id = str(i)+\" \"+str(j)+\"2\")\n",
    "        \n",
    "    actor_loss, value_loss = trainer.train()[0]\n",
    "    actor_loss_epoch.append(actor_loss)\n",
    "    value_loss_epoch.append(value_loss)\n",
    "    \n",
    "    if (i % 50 == 0):\n",
    "        eval_trainer = copy.deepcopy(trainer)\n",
    "        eval_trainer2 = copy.deepcopy(trainer2)\n",
    "        clear_output()\n",
    "        eval_games = 100\n",
    "        mean_health_adv = 0\n",
    "        mean_actions_num = 0\n",
    "        mean_turns = 0\n",
    "        mean_wins = 0\n",
    "        mean_entropy = []\n",
    "        \n",
    "        for i in range(eval_games // 2):\n",
    "            game_stat, entropy = eval_trainer.playGame(record = False, evaluate = True)\n",
    "            adv, actions_num, turns, winner = game_stat\n",
    "            mean_health_adv += adv[0]\n",
    "            mean_actions_num += actions_num[0]\n",
    "            mean_turns += turns\n",
    "            mean_wins += winner[0]\n",
    "            mean_entropy.extend(entropy[0])\n",
    "        \n",
    "        for i in range(eval_games // 2):\n",
    "            game_stat, entropy = eval_trainer2.playGame(record = False, evaluate = True)\n",
    "            adv, actions_num, turns, winner = game_stat\n",
    "            mean_health_adv += adv[1]\n",
    "            mean_actions_num += actions_num[1]\n",
    "            mean_turns += turns\n",
    "            mean_wins += winner[1]\n",
    "            mean_entropy.extend(entropy[1])\n",
    "            \n",
    "            \n",
    "        health_adv_log.append(mean_health_adv / eval_games)\n",
    "        actions_num_log.append(mean_actions_num / eval_games)\n",
    "        turns_log.append(mean_turns / eval_games)\n",
    "        wins_log.append(mean_wins / eval_games)\n",
    "        entropy_log.append(np.mean(mean_entropy))\n",
    "        eps_log.append(a2cAgent.epsilon)\n",
    "        \n",
    "        if mean_wins / eval_games > best_score:\n",
    "            best_score = mean_wins / eval_games\n",
    "            with open('best_model_no_en2.pickle', 'wb') as f:\n",
    "                pickle.dump(a2cAgent, f)\n",
    "                \n",
    "        print(best_score)\n",
    "        \n",
    "        value_loss_log.append(np.mean(value_loss_epoch))\n",
    "        actor_loss_log.append(np.mean(actor_loss_epoch))\n",
    "        \n",
    "        acotor_loss_epoch = []\n",
    "        value_loss_epoch = []\n",
    "        \n",
    "        fig = plt.figure(figsize=(13, 13))\n",
    "\n",
    "        plt.subplot(3, 3, 1)\n",
    "        plt.plot(range(len(health_adv_log)), health_adv_log)\n",
    "        plt.title(\"Health advantage\")\n",
    "        \n",
    "        plt.subplot(3, 3, 2)\n",
    "        plt.plot(range(len(actions_num_log)), actions_num_log)\n",
    "        plt.title(\"Actions num\")\n",
    "        \n",
    "        plt.subplot(3, 3, 3)\n",
    "        plt.plot(range(len(turns_log)), turns_log)\n",
    "        plt.title(\"Turns num\")\n",
    "        \n",
    "        plt.subplot(3, 3, 4)\n",
    "        plt.plot(range(len(wins_log)), wins_log)\n",
    "        plt.title(\"Win rate\")\n",
    "        \n",
    "        plt.subplot(3, 3, 5)\n",
    "        plt.plot(range(len(actor_loss_log)), actor_loss_log)\n",
    "        plt.title(\"Actor loss\")\n",
    "        \n",
    "        plt.subplot(3, 3, 6)\n",
    "        plt.plot(range(len(value_loss_log)), value_loss_log)\n",
    "        plt.title(\"Critic loss\")\n",
    "        \n",
    "        plt.subplot(3, 3, 7)\n",
    "        plt.plot(range(len(entropy_log)), entropy_log)\n",
    "        plt.title(\"Entropy\")\n",
    "        \n",
    "        plt.subplot(3, 3, 8)\n",
    "        plt.plot(range(len(eps_log)), eps_log)\n",
    "        plt.title(\"Epsilon\")\n",
    "\n",
    "        plt.show()"
   ]
  },
  {
   "cell_type": "code",
   "execution_count": null,
   "metadata": {},
   "outputs": [],
   "source": []
  },
  {
   "cell_type": "code",
   "execution_count": null,
   "metadata": {},
   "outputs": [],
   "source": []
  }
 ],
 "metadata": {
  "kernelspec": {
   "display_name": "Python 3",
   "language": "python",
   "name": "python3"
  },
  "language_info": {
   "codemirror_mode": {
    "name": "ipython",
    "version": 3
   },
   "file_extension": ".py",
   "mimetype": "text/x-python",
   "name": "python",
   "nbconvert_exporter": "python",
   "pygments_lexer": "ipython3",
   "version": "3.6.5"
  }
 },
 "nbformat": 4,
 "nbformat_minor": 2
}
