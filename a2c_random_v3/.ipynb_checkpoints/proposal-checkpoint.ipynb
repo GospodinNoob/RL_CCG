{
 "cells": [
  {
   "cell_type": "code",
   "execution_count": 1,
   "metadata": {},
   "outputs": [],
   "source": [
    "import cards as ccg\n",
    "import pandas as pd\n",
    "import numpy as np\n",
    "import copy\n",
    "import random\n",
    "import torch\n",
    "seed = 12345644\n",
    "\n",
    "np.random.seed(seed)\n",
    "torch.manual_seed(seed)\n",
    "random.seed(seed)\n",
    "\n",
    "cards = pd.read_csv('cardsTable.csv')\n",
    "cardsList = [ccg.Minion(i) for i in cards.values.tolist()]\n",
    "\n",
    "cores = pd.read_csv('cores.csv')\n",
    "coreList = [ccg.Core(i) for i in cores.values.tolist()]\n",
    "\n",
    "playersNum = 2\n",
    "piles = [[ccg.Pile(cardsList, 10) for _ in range(4)] for I in range(playersNum)]\n",
    "cores = np.random.choice(coreList, 2)\n",
    "decks = [ccg.Deck(cores[i], piles[i], i) for i in range(playersNum)]"
   ]
  },
  {
   "cell_type": "code",
   "execution_count": 2,
   "metadata": {},
   "outputs": [],
   "source": [
    "session = ccg.Session(decks)"
   ]
  },
  {
   "cell_type": "code",
   "execution_count": 3,
   "metadata": {},
   "outputs": [],
   "source": [
    "def envActionFromAction(action, home_turn):\n",
    "    #skip\n",
    "    env_action = (\"skip\")\n",
    "    if action == 0:\n",
    "        return env_action\n",
    "    \n",
    "    #attack core\n",
    "    action -= 1\n",
    "    if(action < 7):\n",
    "        env_action = (\"attack\", [home_turn, action], [1 - home_turn, 0])\n",
    "        return env_action\n",
    "    \n",
    "    #attack unit\n",
    "    action -= 7\n",
    "    if(action < 49):\n",
    "        env_action = (\"attack\", [home_turn, action // 7], [1 - home_turn, action % 7])\n",
    "        return env_action\n",
    "    \n",
    "    #play from pile\n",
    "    action -= 49\n",
    "    if(action < 4):\n",
    "        env_action = (\"play\", action)\n",
    "        return env_action\n",
    "    \n",
    "    #play from hand\n",
    "    action -= 4\n",
    "    if(action < 6):\n",
    "        env_action = (\"play_hand\", action)\n",
    "        return env_action\n",
    "    \n",
    "    #move from pile to hand\n",
    "    action -= 6\n",
    "    env_action = (\"move\", action)\n",
    "    if action < 4:\n",
    "        return env_action\n",
    "    return None"
   ]
  },
  {
   "cell_type": "code",
   "execution_count": 4,
   "metadata": {},
   "outputs": [
    {
     "name": "stdout",
     "output_type": "stream",
     "text": [
      "[(0, []), (0, [])]\n",
      "['skip', ('play', 1), ('move', 0), ('move', 1), ('move', 2), ('move', 3)]\n",
      "[(3, [(1, 2, 0, 1, 1, True), (2, 2, 0, 3, 3, True), (2, 2, 0, 3, 3, True)]), (0, [])]\n",
      "['skip', ('play_hand', 0), ('move', 0), ('move', 1), ('move', 2), ('move', 3)]\n",
      "[(2, [(2, 2, 0, 3, 3, True), (2, 2, 0, 3, 3, True)]), (0, [])]\n",
      "['skip', ('move', 0), ('move', 1), ('move', 2), ('move', 3)]\n"
     ]
    }
   ],
   "source": [
    "np.random.seed(seed)\n",
    "torch.manual_seed(seed)\n",
    "random.seed(seed)\n",
    "session.reset()\n",
    "print(session.getObservation()[\"hands\"])\n",
    "print(session.getValidActions())\n",
    "session.action(('move', 1))\n",
    "session.action(('move', 2))\n",
    "session.action(('move', 3))\n",
    "print(session.getObservation()[\"hands\"])\n",
    "print(session.getValidActions())\n",
    "session.action(('play_hand', 0))\n",
    "print(session.getObservation()[\"hands\"])\n",
    "print(session.getValidActions())"
   ]
  },
  {
   "cell_type": "code",
   "execution_count": 5,
   "metadata": {},
   "outputs": [],
   "source": [
    "actionDistr = [0] * 70\n",
    "numActions = [0] * 70"
   ]
  },
  {
   "cell_type": "code",
   "execution_count": 8,
   "metadata": {},
   "outputs": [
    {
     "name": "stdout",
     "output_type": "stream",
     "text": [
      "0\n"
     ]
    },
    {
     "ename": "KeyboardInterrupt",
     "evalue": "",
     "output_type": "error",
     "traceback": [
      "\u001b[1;31m---------------------------------------------------------------------------\u001b[0m",
      "\u001b[1;31mKeyboardInterrupt\u001b[0m                         Traceback (most recent call last)",
      "\u001b[1;32m<ipython-input-8-1531cef1f644>\u001b[0m in \u001b[0;36m<module>\u001b[1;34m()\u001b[0m\n\u001b[0;32m     10\u001b[0m             \u001b[0mstate\u001b[0m \u001b[1;33m=\u001b[0m \u001b[0msession\u001b[0m\u001b[1;33m.\u001b[0m\u001b[0mgetObservation\u001b[0m\u001b[1;33m(\u001b[0m\u001b[1;33m)\u001b[0m\u001b[1;33m\u001b[0m\u001b[0m\n\u001b[0;32m     11\u001b[0m             \u001b[0mnumActions\u001b[0m\u001b[1;33m[\u001b[0m\u001b[0mlen\u001b[0m\u001b[1;33m(\u001b[0m\u001b[0mactions\u001b[0m\u001b[1;33m)\u001b[0m\u001b[1;33m]\u001b[0m \u001b[1;33m+=\u001b[0m \u001b[1;36m1\u001b[0m\u001b[1;33m\u001b[0m\u001b[0m\n\u001b[1;32m---> 12\u001b[1;33m             \u001b[1;32mfor\u001b[0m \u001b[0mi\u001b[0m \u001b[1;32min\u001b[0m \u001b[0mrange\u001b[0m\u001b[1;33m(\u001b[0m\u001b[1;36m70\u001b[0m\u001b[1;33m)\u001b[0m\u001b[1;33m:\u001b[0m\u001b[1;33m\u001b[0m\u001b[0m\n\u001b[0m\u001b[0;32m     13\u001b[0m                 \u001b[0maction\u001b[0m \u001b[1;33m=\u001b[0m \u001b[0menvActionFromAction\u001b[0m\u001b[1;33m(\u001b[0m\u001b[0mi\u001b[0m\u001b[1;33m,\u001b[0m \u001b[0mstate\u001b[0m\u001b[1;33m[\u001b[0m\u001b[1;34m\"turn\"\u001b[0m\u001b[1;33m]\u001b[0m\u001b[1;33m)\u001b[0m\u001b[1;33m\u001b[0m\u001b[0m\n\u001b[0;32m     14\u001b[0m                 \u001b[1;32mif\u001b[0m\u001b[1;33m(\u001b[0m\u001b[0maction\u001b[0m \u001b[1;32min\u001b[0m \u001b[0mactions\u001b[0m\u001b[1;33m)\u001b[0m\u001b[1;33m:\u001b[0m\u001b[1;33m\u001b[0m\u001b[0m\n",
      "\u001b[1;31mKeyboardInterrupt\u001b[0m: "
     ]
    }
   ],
   "source": [
    "from IPython.display import clear_output\n",
    "import copy\n",
    "for i in range(10):\n",
    "    endGame = False\n",
    "    print(i)\n",
    "    while not endGame:\n",
    "        actions = session.reset()\n",
    "        while not endGame:  \n",
    "            actions = session.getValidActions()\n",
    "            state = session.getObservation()\n",
    "            numActions[len(actions)] += 1\n",
    "            for i in range(70):\n",
    "                action = envActionFromAction(i, state[\"turn\"])\n",
    "                if(action in actions):\n",
    "                    actionDistr[i] += 1\n",
    "            if (len(actions) > 1):\n",
    "                act = random.choice(actions[1:])\n",
    "                state = session.action(act)\n",
    "            else:\n",
    "                state = session.action(actions[0])\n",
    "            endGame = state[\"end\"]\n",
    "            \n",
    "    clear_output(True)"
   ]
  },
  {
   "cell_type": "code",
   "execution_count": null,
   "metadata": {},
   "outputs": [],
   "source": [
    "for i in range(70):\n",
    "    print(envActionFromAction(i, 0), actionDistr[i])"
   ]
  },
  {
   "cell_type": "code",
   "execution_count": null,
   "metadata": {},
   "outputs": [],
   "source": [
    "actionDistr"
   ]
  },
  {
   "cell_type": "code",
   "execution_count": null,
   "metadata": {},
   "outputs": [],
   "source": [
    "import matplotlib.pyplot as plt\n",
    "plt.ylabel('Action availability probability')\n",
    "plt.xlabel('Action ID')\n",
    "plt.title('Actions distribution')\n",
    "plt.bar([i for i in range(70)], np.array(actionDistr) / max(actionDistr))\n",
    "plt.grid(True)\n",
    "plt.show()"
   ]
  },
  {
   "cell_type": "code",
   "execution_count": null,
   "metadata": {},
   "outputs": [],
   "source": [
    "import matplotlib.pyplot as plt\n",
    "plt.xlabel('Aviable actions number per turn')\n",
    "plt.ylabel('Probability')\n",
    "plt.title('Actions distribution')\n",
    "plt.bar([i + 1 for i in range(70)], np.array(numActions) / sum(numActions))\n",
    "plt.grid(True)\n",
    "plt.show()"
   ]
  },
  {
   "cell_type": "code",
   "execution_count": null,
   "metadata": {},
   "outputs": [],
   "source": []
  }
 ],
 "metadata": {
  "kernelspec": {
   "display_name": "Python 3",
   "language": "python",
   "name": "python3"
  },
  "language_info": {
   "codemirror_mode": {
    "name": "ipython",
    "version": 3
   },
   "file_extension": ".py",
   "mimetype": "text/x-python",
   "name": "python",
   "nbconvert_exporter": "python",
   "pygments_lexer": "ipython3",
   "version": "3.6.5"
  }
 },
 "nbformat": 4,
 "nbformat_minor": 2
}
