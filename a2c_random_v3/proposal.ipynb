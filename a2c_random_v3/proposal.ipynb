{
 "cells": [
  {
   "cell_type": "code",
   "execution_count": 1,
   "metadata": {},
   "outputs": [],
   "source": [
    "import cards as ccg\n",
    "import pandas as pd\n",
    "import numpy as np\n",
    "import copy\n",
    "import random\n",
    "import torch\n",
    "seed = 12345644\n",
    "\n",
    "np.random.seed(seed)\n",
    "torch.manual_seed(seed)\n",
    "random.seed(seed)\n",
    "\n",
    "cards = pd.read_csv('cardsTable.csv')\n",
    "cardsList = [ccg.Minion(i) for i in cards.values.tolist()]\n",
    "\n",
    "cores = pd.read_csv('cores.csv')\n",
    "coreList = [ccg.Core(i) for i in cores.values.tolist()]\n",
    "\n",
    "playersNum = 2\n",
    "piles = [[ccg.Pile(cardsList, 10) for _ in range(4)] for I in range(playersNum)]\n",
    "cores = np.random.choice(coreList, 2)\n",
    "decks = [ccg.Deck(cores[i], piles[i], i) for i in range(playersNum)]"
   ]
  },
  {
   "cell_type": "code",
   "execution_count": 2,
   "metadata": {},
   "outputs": [],
   "source": [
    "session = ccg.Session(decks)"
   ]
  },
  {
   "cell_type": "code",
   "execution_count": 3,
   "metadata": {},
   "outputs": [],
   "source": [
    "def envActionFromAction(action, home_turn):\n",
    "    #skip\n",
    "    env_action = (\"skip\")\n",
    "    if action == 0:\n",
    "        return env_action\n",
    "    \n",
    "    #attack core\n",
    "    action -= 1\n",
    "    if(action < 7):\n",
    "        env_action = (\"attack\", [home_turn, action], [1 - home_turn, 0])\n",
    "        return env_action\n",
    "    \n",
    "    #attack unit\n",
    "    action -= 7\n",
    "    if(action < 49):\n",
    "        env_action = (\"attack\", [home_turn, action // 7], [1 - home_turn, action % 7])\n",
    "        return env_action\n",
    "    \n",
    "    #play from pile\n",
    "    action -= 49\n",
    "    if(action < 4):\n",
    "        env_action = (\"play\", action)\n",
    "        return env_action\n",
    "    \n",
    "    #play from hand\n",
    "    action -= 4\n",
    "    if(action < 6):\n",
    "        env_action = (\"play_hand\", action)\n",
    "        return env_action\n",
    "    \n",
    "    #move from pile to hand\n",
    "    action -= 6\n",
    "    env_action = (\"move\", action)\n",
    "    if action < 4:\n",
    "        return env_action\n",
    "    return None"
   ]
  },
  {
   "cell_type": "code",
   "execution_count": 4,
   "metadata": {},
   "outputs": [
    {
     "name": "stdout",
     "output_type": "stream",
     "text": [
      "[(0, []), (0, [])]\n",
      "['skip', ('play', 1), ('move', 0), ('move', 1), ('move', 2), ('move', 3)]\n",
      "[(3, [(1, 2, 0, 1, 1, True), (2, 2, 0, 3, 3, True), (2, 2, 0, 3, 3, True)]), (0, [])]\n",
      "['skip', ('play_hand', 0), ('move', 0), ('move', 1), ('move', 2), ('move', 3)]\n",
      "[(2, [(2, 2, 0, 3, 3, True), (2, 2, 0, 3, 3, True)]), (0, [])]\n",
      "['skip', ('move', 0), ('move', 1), ('move', 2), ('move', 3)]\n"
     ]
    }
   ],
   "source": [
    "np.random.seed(seed)\n",
    "torch.manual_seed(seed)\n",
    "random.seed(seed)\n",
    "session.reset()\n",
    "print(session.getObservation()[\"hands\"])\n",
    "print(session.getValidActions())\n",
    "session.action(('move', 1))\n",
    "session.action(('move', 2))\n",
    "session.action(('move', 3))\n",
    "print(session.getObservation()[\"hands\"])\n",
    "print(session.getValidActions())\n",
    "session.action(('play_hand', 0))\n",
    "print(session.getObservation()[\"hands\"])\n",
    "print(session.getValidActions())"
   ]
  },
  {
   "cell_type": "code",
   "execution_count": 24,
   "metadata": {},
   "outputs": [],
   "source": [
    "actionDistr = [0] * 71\n",
    "numActions = [0] * 71"
   ]
  },
  {
   "cell_type": "code",
   "execution_count": 25,
   "metadata": {},
   "outputs": [
    {
     "name": "stdout",
     "output_type": "stream",
     "text": [
      "9999\n"
     ]
    }
   ],
   "source": [
    "from IPython.display import clear_output\n",
    "import copy\n",
    "for i in range(10000):\n",
    "    endGame = False\n",
    "    print(i)\n",
    "    while not endGame:\n",
    "        actions = session.reset()\n",
    "        while not endGame:  \n",
    "            actions = session.getValidActions()\n",
    "            state = session.getObservation()\n",
    "            numActions[len(actions)] += 1\n",
    "            for i in range(71):\n",
    "                action = envActionFromAction(i, state[\"turn\"])\n",
    "                if(action in actions):\n",
    "                    actionDistr[i] += 1\n",
    "            if (len(actions) > 1):\n",
    "                act = random.choice(actions[1:])\n",
    "                state = session.action(act)\n",
    "            else:\n",
    "                state = session.action(actions[0])\n",
    "            endGame = state[\"end\"]\n",
    "            \n",
    "    clear_output(True)"
   ]
  },
  {
   "cell_type": "code",
   "execution_count": 26,
   "metadata": {},
   "outputs": [
    {
     "name": "stdout",
     "output_type": "stream",
     "text": [
      "skip 2988566\n",
      "('attack', [0, 0], [1, 0]) 0\n",
      "('attack', [0, 1], [1, 0]) 832271\n",
      "('attack', [0, 2], [1, 0]) 510991\n",
      "('attack', [0, 3], [1, 0]) 274801\n",
      "('attack', [0, 4], [1, 0]) 123040\n",
      "('attack', [0, 5], [1, 0]) 44352\n",
      "('attack', [0, 6], [1, 0]) 11874\n",
      "('attack', [0, 0], [1, 0]) 0\n",
      "('attack', [0, 0], [1, 1]) 0\n",
      "('attack', [0, 0], [1, 2]) 0\n",
      "('attack', [0, 0], [1, 3]) 0\n",
      "('attack', [0, 0], [1, 4]) 0\n",
      "('attack', [0, 0], [1, 5]) 0\n",
      "('attack', [0, 0], [1, 6]) 0\n",
      "('attack', [0, 1], [1, 0]) 832271\n",
      "('attack', [0, 1], [1, 1]) 798127\n",
      "('attack', [0, 1], [1, 2]) 656507\n",
      "('attack', [0, 1], [1, 3]) 426880\n",
      "('attack', [0, 1], [1, 4]) 223981\n",
      "('attack', [0, 1], [1, 5]) 95192\n",
      "('attack', [0, 1], [1, 6]) 31868\n",
      "('attack', [0, 2], [1, 0]) 510991\n",
      "('attack', [0, 2], [1, 1]) 492316\n",
      "('attack', [0, 2], [1, 2]) 438021\n",
      "('attack', [0, 2], [1, 3]) 316408\n",
      "('attack', [0, 2], [1, 4]) 179231\n",
      "('attack', [0, 2], [1, 5]) 80276\n",
      "('attack', [0, 2], [1, 6]) 27876\n",
      "('attack', [0, 3], [1, 0]) 274801\n",
      "('attack', [0, 3], [1, 1]) 265915\n",
      "('attack', [0, 3], [1, 2]) 244106\n",
      "('attack', [0, 3], [1, 3]) 188822\n",
      "('attack', [0, 3], [1, 4]) 115803\n",
      "('attack', [0, 3], [1, 5]) 55799\n",
      "('attack', [0, 3], [1, 6]) 20406\n",
      "('attack', [0, 4], [1, 0]) 123040\n",
      "('attack', [0, 4], [1, 1]) 119629\n",
      "('attack', [0, 4], [1, 2]) 112131\n",
      "('attack', [0, 4], [1, 3]) 91107\n",
      "('attack', [0, 4], [1, 4]) 59510\n",
      "('attack', [0, 4], [1, 5]) 29825\n",
      "('attack', [0, 4], [1, 6]) 11400\n",
      "('attack', [0, 5], [1, 0]) 44352\n",
      "('attack', [0, 5], [1, 1]) 43255\n",
      "('attack', [0, 5], [1, 2]) 40845\n",
      "('attack', [0, 5], [1, 3]) 34389\n",
      "('attack', [0, 5], [1, 4]) 23173\n",
      "('attack', [0, 5], [1, 5]) 12042\n",
      "('attack', [0, 5], [1, 6]) 4592\n",
      "('attack', [0, 6], [1, 0]) 11874\n",
      "('attack', [0, 6], [1, 1]) 11654\n",
      "('attack', [0, 6], [1, 2]) 11071\n",
      "('attack', [0, 6], [1, 3]) 9439\n",
      "('attack', [0, 6], [1, 4]) 6442\n",
      "('attack', [0, 6], [1, 5]) 3333\n",
      "('attack', [0, 6], [1, 6]) 1262\n",
      "('play', 0) 718496\n",
      "('play', 1) 775811\n",
      "('play', 2) 714478\n",
      "('play', 3) 727201\n",
      "('play_hand', 0) 959865\n",
      "('play_hand', 1) 922739\n",
      "('play_hand', 2) 890949\n",
      "('play_hand', 3) 870868\n",
      "('play_hand', 4) 814225\n",
      "('play_hand', 5) 566338\n",
      "('move', 0) 717716\n",
      "('move', 1) 685316\n",
      "('move', 2) 724395\n",
      "('move', 3) 715680\n"
     ]
    }
   ],
   "source": [
    "for i in range(71):\n",
    "    print(envActionFromAction(i, 0), actionDistr[i])"
   ]
  },
  {
   "cell_type": "code",
   "execution_count": 36,
   "metadata": {},
   "outputs": [
    {
     "data": {
      "image/png": "[encoded data removed]",
      "text/plain": [
       "<Figure size 504x288 with 1 Axes>"
      ]
     },
     "metadata": {},
     "output_type": "display_data"
    }
   ],
   "source": [
    "import matplotlib.pyplot as plt\n",
    "plt.figure(figsize=(7,4))\n",
    "plt.ylabel('Action availability probability')\n",
    "plt.xlabel('Action ID')\n",
    "plt.title('Actions distribution')\n",
    "plt.bar([i for i in range(71)], np.array(actionDistr) / max(actionDistr))\n",
    "plt.grid(True)\n",
    "plt.show()"
   ]
  },
  {
   "cell_type": "code",
   "execution_count": 37,
   "metadata": {},
   "outputs": [
    {
     "data": {
      "image/png": "[encoded data removed]",
      "text/plain": [
       "<Figure size 504x288 with 1 Axes>"
      ]
     },
     "metadata": {},
     "output_type": "display_data"
    }
   ],
   "source": [
    "import matplotlib.pyplot as plt\n",
    "plt.figure(figsize=(7,4))\n",
    "plt.xlabel('Aviable actions number per turn')\n",
    "plt.ylabel('Probability')\n",
    "plt.title('Actions distribution')\n",
    "plt.bar([i + 1 for i in range(71)], np.array(numActions) / sum(numActions))\n",
    "plt.grid(True)\n",
    "plt.show()"
   ]
  },
  {
   "cell_type": "code",
   "execution_count": null,
   "metadata": {},
   "outputs": [],
   "source": []
  }
 ],
 "metadata": {
  "kernelspec": {
   "display_name": "Python 3",
   "language": "python",
   "name": "python3"
  },
  "language_info": {
   "codemirror_mode": {
    "name": "ipython",
    "version": 3
   },
   "file_extension": ".py",
   "mimetype": "text/x-python",
   "name": "python",
   "nbconvert_exporter": "python",
   "pygments_lexer": "ipython3",
   "version": "3.6.5"
  }
 },
 "nbformat": 4,
 "nbformat_minor": 2
}
