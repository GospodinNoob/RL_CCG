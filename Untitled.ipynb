{
 "cells": [
  {
   "cell_type": "code",
   "execution_count": 1,
   "metadata": {},
   "outputs": [],
   "source": [
    "import cards as ccg\n",
    "import pandas as pd\n",
    "import numpy as np\n",
    "\n",
    "cards = pd.read_csv('cardsTable.csv')\n",
    "cardsList = [ccg.Minion(i) for i in cards.values.tolist()]\n",
    "\n",
    "cores = pd.read_csv('cores.csv')\n",
    "coreList = [ccg.Core(i) for i in cores.values.tolist()]\n",
    "\n",
    "playersNum = 2\n",
    "piles = [[ccg.Pile(cardsList, 10) for _ in range(4)] for I in range(playersNum)]\n",
    "cores = np.random.choice(coreList, 2)\n",
    "decks = [ccg.Deck(cores[i], piles[i], i) for i in range(playersNum)]"
   ]
  },
  {
   "cell_type": "code",
   "execution_count": 2,
   "metadata": {},
   "outputs": [],
   "source": [
    "session = ccg.Session(decks)"
   ]
  },
  {
   "cell_type": "code",
   "execution_count": 3,
   "metadata": {},
   "outputs": [
    {
     "data": {
      "text/plain": [
       "{'battleGround': {'grave': [[], []],\n",
       "  'table': [[(0, 0, 30, 30, 1, 1)], [(0, 0, 30, 30, 1, 1)]]},\n",
       " 'piles': [[(10, (2, 2, 0, 3, 3, True)),\n",
       "   (10, (2, 2, 0, 3, 3, True)),\n",
       "   (10, (2, 2, 0, 3, 3, True)),\n",
       "   (10, (2, 2, 0, 3, 3, True))],\n",
       "  [(10, None), (10, None), (10, None), (10, None)]],\n",
       " 'winner': -1,\n",
       " 'turn': 0,\n",
       " 'end': False}"
      ]
     },
     "execution_count": 3,
     "metadata": {},
     "output_type": "execute_result"
    }
   ],
   "source": [
    "session.getObservation()"
   ]
  },
  {
   "cell_type": "code",
   "execution_count": 4,
   "metadata": {},
   "outputs": [
    {
     "data": {
      "text/plain": [
       "['skip']"
      ]
     },
     "execution_count": 4,
     "metadata": {},
     "output_type": "execute_result"
    }
   ],
   "source": [
    "session.getValidActions()"
   ]
  },
  {
   "cell_type": "code",
   "execution_count": 5,
   "metadata": {},
   "outputs": [
    {
     "data": {
      "text/plain": [
       "{'battleGround': {'grave': [[], []],\n",
       "  'table': [[(0, 0, 30, 30, -1, 1), (2, 2, 0, 3, 3, True)],\n",
       "   [(0, 0, 30, 30, 1, 1)]]},\n",
       " 'piles': [[(10, (2, 2, 0, 3, 3, True)),\n",
       "   (9, (1, 2, 0, 1, 1, True)),\n",
       "   (10, (2, 2, 0, 3, 3, True)),\n",
       "   (10, (2, 2, 0, 3, 3, True))],\n",
       "  [(10, None), (10, None), (10, None), (10, None)]],\n",
       " 'winner': -1,\n",
       " 'turn': 0,\n",
       " 'end': False}"
      ]
     },
     "execution_count": 5,
     "metadata": {},
     "output_type": "execute_result"
    }
   ],
   "source": [
    "session.action((\"play\", 1))"
   ]
  },
  {
   "cell_type": "code",
   "execution_count": 6,
   "metadata": {},
   "outputs": [
    {
     "data": {
      "text/plain": [
       "{'battleGround': {'grave': [[], []],\n",
       "  'table': [[(0, 0, 30, 30, 2, 2), (2, 2, 0, 3, 3, False)],\n",
       "   [(0, 0, 30, 30, 2, 2)]]},\n",
       " 'piles': [[(10, (2, 2, 0, 3, 3, False)),\n",
       "   (9, (1, 2, 0, 1, 1, True)),\n",
       "   (10, (2, 2, 0, 3, 3, False)),\n",
       "   (10, (2, 2, 0, 3, 3, False))],\n",
       "  [(10, None), (10, None), (10, None), (10, None)]],\n",
       " 'winner': -1,\n",
       " 'turn': 0,\n",
       " 'end': False}"
      ]
     },
     "execution_count": 6,
     "metadata": {},
     "output_type": "execute_result"
    }
   ],
   "source": [
    "session.action((\"skip\"))\n",
    "session.action((\"skip\"))"
   ]
  },
  {
   "cell_type": "code",
   "execution_count": 7,
   "metadata": {},
   "outputs": [],
   "source": [
    "import random\n",
    "\n",
    "def playFullGame(session):\n",
    "    endGame = False\n",
    "    winner = -1\n",
    "    while not endGame:\n",
    "        actions = session.getValidActions()\n",
    "        if len(actions) > 1:\n",
    "            state = session.action(random.choice(actions[1:]))\n",
    "        else:\n",
    "            state = session.action(actions[0])\n",
    "        endGame = state[\"end\"]\n",
    "        winner = state[\"winner\"]\n",
    "    return winner"
   ]
  },
  {
   "cell_type": "code",
   "execution_count": 8,
   "metadata": {},
   "outputs": [
    {
     "data": {
      "text/plain": [
       "{-1: 0, 0: 0, 1: 0}"
      ]
     },
     "execution_count": 8,
     "metadata": {},
     "output_type": "execute_result"
    }
   ],
   "source": [
    "from IPython.display import clear_output\n",
    "\n",
    "stat = dict()\n",
    "stat[-1] = 0\n",
    "stat[0] = 0\n",
    "stat[1] = 0\n",
    "session.reset()\n",
    "def playRandom():\n",
    "    for i in range(1000):\n",
    "        stat[playFullGame(session)] += 1\n",
    "        session.reset()\n",
    "        clear_output()\n",
    "        print(i / 1000)\n",
    "stat"
   ]
  },
  {
   "cell_type": "code",
   "execution_count": 9,
   "metadata": {},
   "outputs": [
    {
     "name": "stdout",
     "output_type": "stream",
     "text": [
      "0.4.1\n"
     ]
    }
   ],
   "source": [
    "from __future__ import print_function\n",
    "import numpy as np\n",
    "import torch\n",
    "print(torch.__version__)"
   ]
  },
  {
   "cell_type": "code",
   "execution_count": 10,
   "metadata": {},
   "outputs": [],
   "source": [
    "import copy\n",
    "import random\n",
    "\n",
    "def observationTable(table, turn):\n",
    "    tables = copy.deepcopy(table)\n",
    "    for i in tables:\n",
    "        for j in range(len(i), 8):\n",
    "            i.append(observationMinion(ccg.Minion().getCurState()))\n",
    "        i[0] = observationCore(i[0])\n",
    "        for j in range(1, len(i)):\n",
    "            i[j] = observationMinion(i[j])\n",
    "        buf = i[1:]\n",
    "        #random.shuffle(buf)\n",
    "        i[1:] = buf\n",
    "    tables[0], tables[turn] = tables[turn], tables[0]\n",
    "    for i in range(len(tables)):\n",
    "        tables[i] = np.hstack(tuple(tables[i]))\n",
    "    return np.hstack(tuple(tables))\n",
    "\n",
    "def observationCore(core):\n",
    "    return np.array(list(core))\n",
    "\n",
    "def observationMinion(minion):\n",
    "    state = list(minion)\n",
    "    state[5] = int(state[5])\n",
    "    return np.array(state)\n",
    "\n",
    "def observationPile(pile):\n",
    "    pileCopy = copy.deepcopy(pile)\n",
    "    #random.shuffle(pileCopy)\n",
    "    for i in range(len(pileCopy)):\n",
    "        pileCopy[i] = list(pileCopy[i])\n",
    "        if pileCopy[i][1] == None:\n",
    "            pileCopy[i][1] = observationMinion(ccg.Minion().getCurState())\n",
    "        else:\n",
    "            pileCopy[i][1] = observationMinion(pileCopy[i][1])\n",
    "        pileCopy[i] = [pileCopy[i][0]] + pileCopy[i][1].tolist()\n",
    "    return np.hstack(tuple(pileCopy))\n",
    "\n",
    "def createStateObservation(state):\n",
    "    \n",
    "    observations = dict()\n",
    "    observations[\"main\"] = observationTable(state[\"battleGround\"][\"table\"], state[\"turn\"])\n",
    "    pilesObs = []\n",
    "    \n",
    "    for i in state[\"piles\"]:   \n",
    "        pilesObs.append(observationPile(i))\n",
    "        \n",
    "    pilesObs[0], pilesObs[state[\"turn\"]] = pilesObs[state[\"turn\"]], pilesObs[0]\n",
    "    pilesObs = np.hstack(tuple(pilesObs))\n",
    "    observations[\"main\"] = observations[\"main\"].tolist() + pilesObs.tolist()\n",
    "\n",
    "    return observations[\"main\"]\n",
    "    \n",
    "    observations[\"unitsOtCore\"]\n",
    "    observations[\"unitsActtack\"] = []\n",
    "    for i in range(len(state[\"table\"])):\n",
    "        for j in range(len()):\n",
    "            pass\n",
    "    \n",
    "    observations[\"playCard\"] = observations[\"main\"]\n",
    "    \n",
    "    return observations\n"
   ]
  },
  {
   "cell_type": "code",
   "execution_count": 11,
   "metadata": {},
   "outputs": [
    {
     "data": {
      "text/plain": [
       "[0,\n",
       " 0,\n",
       " 30,\n",
       " 30,\n",
       " 1,\n",
       " 1,\n",
       " 0,\n",
       " 0,\n",
       " 0,\n",
       " 0,\n",
       " 0,\n",
       " 1,\n",
       " 0,\n",
       " 0,\n",
       " 0,\n",
       " 0,\n",
       " 0,\n",
       " 1,\n",
       " 0,\n",
       " 0,\n",
       " 0,\n",
       " 0,\n",
       " 0,\n",
       " 1,\n",
       " 0,\n",
       " 0,\n",
       " 0,\n",
       " 0,\n",
       " 0,\n",
       " 1,\n",
       " 0,\n",
       " 0,\n",
       " 0,\n",
       " 0,\n",
       " 0,\n",
       " 1,\n",
       " 0,\n",
       " 0,\n",
       " 0,\n",
       " 0,\n",
       " 0,\n",
       " 1,\n",
       " 0,\n",
       " 0,\n",
       " 0,\n",
       " 0,\n",
       " 0,\n",
       " 1,\n",
       " 0,\n",
       " 0,\n",
       " 30,\n",
       " 30,\n",
       " 1,\n",
       " 1,\n",
       " 0,\n",
       " 0,\n",
       " 0,\n",
       " 0,\n",
       " 0,\n",
       " 1,\n",
       " 0,\n",
       " 0,\n",
       " 0,\n",
       " 0,\n",
       " 0,\n",
       " 1,\n",
       " 0,\n",
       " 0,\n",
       " 0,\n",
       " 0,\n",
       " 0,\n",
       " 1,\n",
       " 0,\n",
       " 0,\n",
       " 0,\n",
       " 0,\n",
       " 0,\n",
       " 1,\n",
       " 0,\n",
       " 0,\n",
       " 0,\n",
       " 0,\n",
       " 0,\n",
       " 1,\n",
       " 0,\n",
       " 0,\n",
       " 0,\n",
       " 0,\n",
       " 0,\n",
       " 1,\n",
       " 0,\n",
       " 0,\n",
       " 0,\n",
       " 0,\n",
       " 0,\n",
       " 1,\n",
       " 10,\n",
       " 2,\n",
       " 2,\n",
       " 0,\n",
       " 3,\n",
       " 3,\n",
       " 1,\n",
       " 10,\n",
       " 2,\n",
       " 2,\n",
       " 0,\n",
       " 3,\n",
       " 3,\n",
       " 1,\n",
       " 10,\n",
       " 2,\n",
       " 2,\n",
       " 0,\n",
       " 3,\n",
       " 3,\n",
       " 1,\n",
       " 10,\n",
       " 2,\n",
       " 2,\n",
       " 0,\n",
       " 3,\n",
       " 3,\n",
       " 1,\n",
       " 10,\n",
       " 0,\n",
       " 0,\n",
       " 0,\n",
       " 0,\n",
       " 0,\n",
       " 1,\n",
       " 10,\n",
       " 0,\n",
       " 0,\n",
       " 0,\n",
       " 0,\n",
       " 0,\n",
       " 1,\n",
       " 10,\n",
       " 0,\n",
       " 0,\n",
       " 0,\n",
       " 0,\n",
       " 0,\n",
       " 1,\n",
       " 10,\n",
       " 0,\n",
       " 0,\n",
       " 0,\n",
       " 0,\n",
       " 0,\n",
       " 1]"
      ]
     },
     "execution_count": 11,
     "metadata": {},
     "output_type": "execute_result"
    }
   ],
   "source": [
    "createStateObservation(session.getObservation())"
   ]
  },
  {
   "cell_type": "code",
   "execution_count": 12,
   "metadata": {},
   "outputs": [],
   "source": [
    "import random\n",
    "class ReplayBuffer(object):\n",
    "    def __init__(self, size):\n",
    "        self._storage = []\n",
    "        self._maxsize = size\n",
    "        self._replaceId = 0\n",
    "        \n",
    "\n",
    "    def __len__(self):\n",
    "        return len(self._storage)\n",
    "\n",
    "    def add(self, obs_t, action, reward, obs_tp1, done):\n",
    "        data = (obs_t, action, reward, obs_tp1, done)\n",
    "        if len(self._storage) == self._maxsize:\n",
    "            self._storage[self._replaceId] = data\n",
    "            self._replaceId += 1\n",
    "            self._replaceId %= self._maxsize\n",
    "        else:\n",
    "            self._storage.append(data)\n",
    "        \n",
    "    def sample(self, batch_size):\n",
    "        idxes = random.sample(range(len(self._storage)), min(batch_size, len(self._storage)))\n",
    "        states, actions, rewards, next_states, is_done = zip(*[self._storage[idx] for idx in idxes])\n",
    "        \n",
    "        return np.array(states), np.array(actions), np.array(rewards), np.array(next_states), np.array(is_done)"
   ]
  },
  {
   "cell_type": "code",
   "execution_count": 13,
   "metadata": {},
   "outputs": [],
   "source": [
    "exp_replay = ReplayBuffer(10000)"
   ]
  },
  {
   "cell_type": "code",
   "execution_count": 14,
   "metadata": {},
   "outputs": [
    {
     "name": "stdout",
     "output_type": "stream",
     "text": [
      "torch.Size([1, 1, 1, 100]) torch.Size([1, 5, 1, 100]) torch.Size([1, 1, 7, 100])\n"
     ]
    },
    {
     "data": {
      "text/plain": [
       "torch.Size([1, 5, 7, 1])"
      ]
     },
     "execution_count": 14,
     "metadata": {},
     "output_type": "execute_result"
    }
   ],
   "source": [
    "import torch, torch.nn as nn, torch.nn.functional as F\n",
    "\n",
    "class Agent(nn.Module):\n",
    "    def __init__(self,):\n",
    "        super().__init__()\n",
    "        FIELD_SIZE = 256\n",
    "        CARD_SIZE = 10\n",
    "        VEC_SIZE = 100\n",
    "        \n",
    "        self.field2vec = nn.Sequential(nn.Linear(FIELD_SIZE, 512,), nn.ELU(), nn.Linear(512, VEC_SIZE))\n",
    "        self.card2vec = nn.Sequential(nn.Linear(CARD_SIZE, 512,), nn.ELU(), nn.Linear(512, VEC_SIZE))\n",
    "        \n",
    "        self.attack_qvalues = nn.Sequential(nn.Linear(VEC_SIZE, 512,),  #[field, attacker_card, target_card]\n",
    "                                            nn.ELU(), nn.Linear(512, 1))\n",
    "    \n",
    "    def compute_attack_qvalue(self, field, card, target_card):\n",
    "        \n",
    "        field_vec = self.field2vec(field)\n",
    "        card_vec = self.card2vec(card)\n",
    "        target_vec = self.card2vec(target_card)\n",
    "        print(field_vec.shape, card_vec.shape, target_vec.shape)\n",
    "        qvalue = self.attack_qvalues(field_vec + card_vec + target_vec)\n",
    "        return qvalue\n",
    "\n",
    "field = torch.zeros([256])\n",
    "our_cards = torch.randn([5, 10])\n",
    "enemy_cards = torch.randn([7, 10])\n",
    "agent = Agent()\n",
    "\n",
    "#[FIELD_INDEX, OUR_CARD_INDEX, TARGET_CARD_INDEX, VEC]\n",
    "agent.compute_attack_qvalue(\n",
    "field[None, None, None, :],\n",
    "our_cards[None, :, None, :],\n",
    "enemy_cards[None, None, :, :],\n",
    ").shape"
   ]
  },
  {
   "cell_type": "code",
   "execution_count": 15,
   "metadata": {},
   "outputs": [],
   "source": [
    "import math\n",
    "\n",
    "import numpy as np\n",
    "\n",
    "import torch\n",
    "import torch.nn as nn\n",
    "import torch.nn.functional as F\n",
    "from torch.autograd import Variable\n",
    "\n",
    "class NeuralRegressor(torch.nn.Module):\n",
    "    def __init__(self, state_shape, n_actions, epsilon = 0):\n",
    "        nn.Module.__init__(self)\n",
    "        self.epsilon = epsilon\n",
    "        self.state_shape = state_shape\n",
    "        \n",
    "        self.layers = nn.Sequential(\n",
    "            nn.Linear(state_shape, 256),\n",
    "            nn.ReLU(),\n",
    "            nn.Linear(256, 512),\n",
    "            nn.ReLU(),\n",
    "            nn.Linear(512, 512),\n",
    "            nn.ReLU(),\n",
    "            nn.Linear(512, 256),\n",
    "            nn.ReLU(),\n",
    "            nn.Linear(256, n_actions)\n",
    "        )\n",
    "            \n",
    "\n",
    "    def forward(self, state_t):\n",
    "        \n",
    "        qvalues = self.layers(state_t)\n",
    "        \n",
    "        return qvalues\n",
    "    \n",
    "    def get_qvalues(self, states):\n",
    "        states = Variable(torch.FloatTensor(np.asarray(states)))\n",
    "        qvalues = self.forward(states)\n",
    "        return qvalues.data.cpu().numpy()\n",
    "    \n",
    "    def sample_actions(self, qvalues, valid_actions):\n",
    "        epsilon = self.epsilon\n",
    "        batch_size, n_actions = qvalues.shape\n",
    "        qvalues[np.logical_not(valid_actions)] = -2**32\n",
    "        valid_actions = valid_actions.astype(np.int)\n",
    "        valid_actions = [va / np.sum(va) for va in valid_actions]\n",
    "        random_actions = [np.random.choice(n_actions, size=batch_size, p=va)[0] for va in valid_actions]\n",
    "        best_actions = qvalues.argmax(axis=-1)\n",
    "        \n",
    "        should_explore = np.random.choice([0, 1], batch_size, p = [1-epsilon, epsilon])\n",
    "        return np.where(should_explore, random_actions, best_actions)"
   ]
  },
  {
   "cell_type": "code",
   "execution_count": 16,
   "metadata": {},
   "outputs": [],
   "source": [
    "state = session.reset()\n",
    "state_dim = len(createStateObservation(session.getObservation()))\n",
    "n_actions = 1 + 7 * 8 + 4\n",
    "agent = NeuralRegressor(state_dim, n_actions, epsilon=0.5)"
   ]
  },
  {
   "cell_type": "code",
   "execution_count": 17,
   "metadata": {},
   "outputs": [],
   "source": [
    "import numpy\n",
    "\n",
    "def envActionFromAction(action, home_turn):\n",
    "    env_action = (\"skip\")\n",
    "    if action == 0:\n",
    "        pass\n",
    "    elif(action < n_actions - 4):\n",
    "        action_attack = action - 1\n",
    "        env_action = (\"attack\", [home_turn, action_attack // 8], [1 - home_turn, action_attack % 8])\n",
    "    else:\n",
    "        env_action = (\"play\", action - (n_actions - 4))\n",
    "    return env_action\n",
    "\n",
    "def play_and_record(agent, session, replay = None, n_games=10, n_steps = 1000, home_turn=0, record = False):\n",
    "    rewards = 0\n",
    "    step = 0\n",
    "    for _ in range(n_games):\n",
    "        endGame = False\n",
    "        winner = -1\n",
    "        session.reset()\n",
    "        log = []\n",
    "        while not endGame:\n",
    "            actions = session.getValidActions()\n",
    "            curState = session.getObservation()\n",
    "            next_s = None\n",
    "            ids = 0\n",
    "            while (curState[\"turn\"] == home_turn) and not endGame:\n",
    "                obs = createStateObservation(curState)\n",
    "                qvalues = agent.get_qvalues([obs])\n",
    "                valid_actions = [[]]\n",
    "                for i in range(n_actions):\n",
    "                    env_action = envActionFromAction(i, home_turn)\n",
    "                    valid_actions[0].append(env_action in actions)\n",
    "                \n",
    "                action = agent.sample_actions(qvalues, np.array(valid_actions))[0]\n",
    "                env_action = envActionFromAction(action, home_turn)\n",
    "                next_s = session.action(env_action)\n",
    "                    \n",
    "                if next_s[\"turn\"] == home_turn:\n",
    "                    table = next_s[\"battleGround\"][\"table\"]\n",
    "                    reward = table[home_turn][0][2] - table[1 - home_turn][0][2]\n",
    "                    rewards += reward\n",
    "                    if(record):\n",
    "                        replay.add(obs, action, reward, createStateObservation(next_s), next_s[\"end\"])\n",
    "                else:\n",
    "                    curState = next_s\n",
    "                        \n",
    "            while (next_s[\"turn\"] != home_turn) and not endGame:\n",
    "                actions = session.getValidActions()\n",
    "                next_s = session.action(actions[0])\n",
    "                endGame = next_s[\"end\"]\n",
    "                \n",
    "            table = next_s[\"battleGround\"][\"table\"]\n",
    "            reward = table[home_turn][0][2] - table[1 - home_turn][0][2]\n",
    "            rewards += reward\n",
    "            \n",
    "            if record:\n",
    "                replay.add(createStateObservation(curState), ids, reward, createStateObservation(session.getObservation()), next_s[\"end\"])\n",
    "                \n",
    "    return rewards / n_games"
   ]
  },
  {
   "cell_type": "code",
   "execution_count": 18,
   "metadata": {},
   "outputs": [
    {
     "data": {
      "text/plain": [
       "515.0"
      ]
     },
     "execution_count": 18,
     "metadata": {},
     "output_type": "execute_result"
    }
   ],
   "source": [
    "exp_replay = ReplayBuffer(1000)\n",
    "\n",
    "play_and_record(agent, session, exp_replay, n_games=1, home_turn=0, record=True)"
   ]
  },
  {
   "cell_type": "code",
   "execution_count": 19,
   "metadata": {},
   "outputs": [],
   "source": [
    "target_network = NeuralRegressor(state_dim, n_actions)\n",
    "target_network.load_state_dict(agent.state_dict())"
   ]
  },
  {
   "cell_type": "code",
   "execution_count": 20,
   "metadata": {},
   "outputs": [],
   "source": [
    "def compute_td_loss(states, actions, rewards, next_states, is_done, gamma = 0.99):\n",
    "    states = Variable(torch.FloatTensor(states))   \n",
    "    actions = Variable(torch.LongTensor(actions))   \n",
    "    rewards = Variable(torch.FloatTensor(rewards))  \n",
    "    next_states = Variable(torch.FloatTensor(next_states))\n",
    "    is_done = Variable(torch.FloatTensor(is_done.astype('float32'))) \n",
    "    is_not_done = 1 - is_done\n",
    "    \n",
    "    predicted_qvalues = agent(states)\n",
    "    \n",
    "    predicted_next_qvalues = target_network(next_states)\n",
    "    ids = torch.arange(0, len(states),dtype=torch.long)\n",
    "    predicted_qvalues_for_actions = predicted_qvalues[ids, actions]\n",
    "\n",
    "    next_state_values = torch.max(target_network(next_states), dim = 1)[0]\n",
    "    \n",
    "    target_qvalues_for_actions = rewards + is_not_done * next_state_values\n",
    "    loss = torch.mean((predicted_qvalues_for_actions - target_qvalues_for_actions.detach()) ** 2 )\n",
    "    return loss"
   ]
  },
  {
   "cell_type": "code",
   "execution_count": 21,
   "metadata": {},
   "outputs": [],
   "source": [
    "obs_batch, act_batch, reward_batch, next_obs_batch, is_done_batch = exp_replay.sample(10)\n",
    "\n",
    "loss = compute_td_loss(obs_batch, act_batch, reward_batch, next_obs_batch, is_done_batch, gamma=0.99)\n",
    "loss.backward()"
   ]
  },
  {
   "cell_type": "markdown",
   "metadata": {},
   "source": [
    "### Training"
   ]
  },
  {
   "cell_type": "code",
   "execution_count": 22,
   "metadata": {},
   "outputs": [
    {
     "data": {
      "text/plain": [
       "1638.9"
      ]
     },
     "execution_count": 22,
     "metadata": {},
     "output_type": "execute_result"
    }
   ],
   "source": [
    "from tqdm import trange\n",
    "from IPython.display import clear_output\n",
    "import matplotlib.pyplot as plt\n",
    "%matplotlib inline\n",
    "\n",
    "mean_rw_history = []\n",
    "td_loss_history = []\n",
    "exp_replay = ReplayBuffer(10000)\n",
    "state = session.reset()\n",
    "state_dim = len(createStateObservation(session.getObservation()))\n",
    "n_actions = 1 + 7 * 8 + 4\n",
    "agent = NeuralRegressor(state_dim, n_actions, epsilon=0.5)\n",
    "play_and_record(agent, session, exp_replay, n_games=10, home_turn=0)"
   ]
  },
  {
   "cell_type": "code",
   "execution_count": 23,
   "metadata": {},
   "outputs": [],
   "source": [
    "opt = torch.optim.Adam(agent.parameters())"
   ]
  },
  {
   "cell_type": "code",
   "execution_count": 24,
   "metadata": {},
   "outputs": [
    {
     "name": "stdout",
     "output_type": "stream",
     "text": [
      "buffer size = 10000, epsilon = 0.47074\n"
     ]
    },
    {
     "data": {
      "text/plain": [
       "<Figure size 432x288 with 0 Axes>"
      ]
     },
     "metadata": {},
     "output_type": "display_data"
    },
    {
     "data": {
      "image/png": "[encoded data removed]",
      "text/plain": [
       "<Figure size 864x288 with 2 Axes>"
      ]
     },
     "metadata": {},
     "output_type": "display_data"
    },
    {
     "name": "stderr",
     "output_type": "stream",
     "text": [
      "  0%|                                                                         | 544/400000 [16:44<214:02:17,  1.93s/it]"
     ]
    },
    {
     "ename": "KeyboardInterrupt",
     "evalue": "",
     "output_type": "error",
     "traceback": [
      "\u001b[1;31m---------------------------------------------------------------------------\u001b[0m",
      "\u001b[1;31mKeyboardInterrupt\u001b[0m                         Traceback (most recent call last)",
      "\u001b[1;32m<ipython-input-24-4ecf351a9e29>\u001b[0m in \u001b[0;36m<module>\u001b[1;34m()\u001b[0m\n\u001b[0;32m      2\u001b[0m \u001b[1;32mfor\u001b[0m \u001b[0mi\u001b[0m \u001b[1;32min\u001b[0m \u001b[0mtrange\u001b[0m\u001b[1;33m(\u001b[0m\u001b[1;36m4\u001b[0m \u001b[1;33m*\u001b[0m \u001b[1;36m10\u001b[0m\u001b[1;33m**\u001b[0m\u001b[1;36m5\u001b[0m\u001b[1;33m)\u001b[0m\u001b[1;33m:\u001b[0m\u001b[1;33m\u001b[0m\u001b[0m\n\u001b[0;32m      3\u001b[0m \u001b[1;33m\u001b[0m\u001b[0m\n\u001b[1;32m----> 4\u001b[1;33m     \u001b[0mplay_and_record\u001b[0m\u001b[1;33m(\u001b[0m\u001b[0magent\u001b[0m\u001b[1;33m,\u001b[0m \u001b[0msession\u001b[0m\u001b[1;33m,\u001b[0m \u001b[0mexp_replay\u001b[0m\u001b[1;33m,\u001b[0m \u001b[0mn_games\u001b[0m\u001b[1;33m=\u001b[0m\u001b[1;36m50\u001b[0m\u001b[1;33m,\u001b[0m \u001b[0mhome_turn\u001b[0m\u001b[1;33m=\u001b[0m\u001b[1;36m0\u001b[0m\u001b[1;33m,\u001b[0m \u001b[0mrecord\u001b[0m\u001b[1;33m=\u001b[0m\u001b[1;32mTrue\u001b[0m\u001b[1;33m)\u001b[0m\u001b[1;33m\u001b[0m\u001b[0m\n\u001b[0m\u001b[0;32m      5\u001b[0m \u001b[1;33m\u001b[0m\u001b[0m\n\u001b[0;32m      6\u001b[0m     \u001b[0msamples\u001b[0m \u001b[1;33m=\u001b[0m \u001b[0mexp_replay\u001b[0m\u001b[1;33m.\u001b[0m\u001b[0msample\u001b[0m\u001b[1;33m(\u001b[0m\u001b[1;36m1000\u001b[0m\u001b[1;33m)\u001b[0m\u001b[1;33m\u001b[0m\u001b[0m\n",
      "\u001b[1;32m<ipython-input-17-be374892e431>\u001b[0m in \u001b[0;36mplay_and_record\u001b[1;34m(agent, session, replay, n_games, n_steps, home_turn, record)\u001b[0m\n\u001b[0;32m     27\u001b[0m             \u001b[1;32mwhile\u001b[0m \u001b[1;33m(\u001b[0m\u001b[0mcurState\u001b[0m\u001b[1;33m[\u001b[0m\u001b[1;34m\"turn\"\u001b[0m\u001b[1;33m]\u001b[0m \u001b[1;33m==\u001b[0m \u001b[0mhome_turn\u001b[0m\u001b[1;33m)\u001b[0m \u001b[1;32mand\u001b[0m \u001b[1;32mnot\u001b[0m \u001b[0mendGame\u001b[0m\u001b[1;33m:\u001b[0m\u001b[1;33m\u001b[0m\u001b[0m\n\u001b[0;32m     28\u001b[0m                 \u001b[0mobs\u001b[0m \u001b[1;33m=\u001b[0m \u001b[0mcreateStateObservation\u001b[0m\u001b[1;33m(\u001b[0m\u001b[0mcurState\u001b[0m\u001b[1;33m)\u001b[0m\u001b[1;33m\u001b[0m\u001b[0m\n\u001b[1;32m---> 29\u001b[1;33m                 \u001b[0mqvalues\u001b[0m \u001b[1;33m=\u001b[0m \u001b[0magent\u001b[0m\u001b[1;33m.\u001b[0m\u001b[0mget_qvalues\u001b[0m\u001b[1;33m(\u001b[0m\u001b[1;33m[\u001b[0m\u001b[0mobs\u001b[0m\u001b[1;33m]\u001b[0m\u001b[1;33m)\u001b[0m\u001b[1;33m\u001b[0m\u001b[0m\n\u001b[0m\u001b[0;32m     30\u001b[0m                 \u001b[0mvalid_actions\u001b[0m \u001b[1;33m=\u001b[0m \u001b[1;33m[\u001b[0m\u001b[1;33m[\u001b[0m\u001b[1;33m]\u001b[0m\u001b[1;33m]\u001b[0m\u001b[1;33m\u001b[0m\u001b[0m\n\u001b[0;32m     31\u001b[0m                 \u001b[1;32mfor\u001b[0m \u001b[0mi\u001b[0m \u001b[1;32min\u001b[0m \u001b[0mrange\u001b[0m\u001b[1;33m(\u001b[0m\u001b[0mn_actions\u001b[0m\u001b[1;33m)\u001b[0m\u001b[1;33m:\u001b[0m\u001b[1;33m\u001b[0m\u001b[0m\n",
      "\u001b[1;32m<ipython-input-15-7585a5cb860e>\u001b[0m in \u001b[0;36mget_qvalues\u001b[1;34m(self, states)\u001b[0m\n\u001b[0;32m     34\u001b[0m \u001b[1;33m\u001b[0m\u001b[0m\n\u001b[0;32m     35\u001b[0m     \u001b[1;32mdef\u001b[0m \u001b[0mget_qvalues\u001b[0m\u001b[1;33m(\u001b[0m\u001b[0mself\u001b[0m\u001b[1;33m,\u001b[0m \u001b[0mstates\u001b[0m\u001b[1;33m)\u001b[0m\u001b[1;33m:\u001b[0m\u001b[1;33m\u001b[0m\u001b[0m\n\u001b[1;32m---> 36\u001b[1;33m         \u001b[0mstates\u001b[0m \u001b[1;33m=\u001b[0m \u001b[0mVariable\u001b[0m\u001b[1;33m(\u001b[0m\u001b[0mtorch\u001b[0m\u001b[1;33m.\u001b[0m\u001b[0mFloatTensor\u001b[0m\u001b[1;33m(\u001b[0m\u001b[0mnp\u001b[0m\u001b[1;33m.\u001b[0m\u001b[0masarray\u001b[0m\u001b[1;33m(\u001b[0m\u001b[0mstates\u001b[0m\u001b[1;33m)\u001b[0m\u001b[1;33m)\u001b[0m\u001b[1;33m)\u001b[0m\u001b[1;33m\u001b[0m\u001b[0m\n\u001b[0m\u001b[0;32m     37\u001b[0m         \u001b[0mqvalues\u001b[0m \u001b[1;33m=\u001b[0m \u001b[0mself\u001b[0m\u001b[1;33m.\u001b[0m\u001b[0mforward\u001b[0m\u001b[1;33m(\u001b[0m\u001b[0mstates\u001b[0m\u001b[1;33m)\u001b[0m\u001b[1;33m\u001b[0m\u001b[0m\n\u001b[0;32m     38\u001b[0m         \u001b[1;32mreturn\u001b[0m \u001b[0mqvalues\u001b[0m\u001b[1;33m.\u001b[0m\u001b[0mdata\u001b[0m\u001b[1;33m.\u001b[0m\u001b[0mcpu\u001b[0m\u001b[1;33m(\u001b[0m\u001b[1;33m)\u001b[0m\u001b[1;33m.\u001b[0m\u001b[0mnumpy\u001b[0m\u001b[1;33m(\u001b[0m\u001b[1;33m)\u001b[0m\u001b[1;33m\u001b[0m\u001b[0m\n",
      "\u001b[1;31mKeyboardInterrupt\u001b[0m: "
     ]
    },
    {
     "data": {
      "text/plain": [
       "<Figure size 432x288 with 0 Axes>"
      ]
     },
     "metadata": {},
     "output_type": "display_data"
    }
   ],
   "source": [
    "state = session.reset()\n",
    "for i in trange(4 * 10**5):\n",
    "    \n",
    "    play_and_record(agent, session, exp_replay, n_games=50, home_turn=0, record=True)\n",
    "    \n",
    "    samples = exp_replay.sample(1000)\n",
    "\n",
    "    loss = compute_td_loss(*samples)\n",
    "    loss.backward()\n",
    "    opt.step()\n",
    "    opt.zero_grad()\n",
    "    \n",
    "    td_loss_history.append(loss.data.cpu().numpy())\n",
    "    \n",
    "    if i % 100 == 0:\n",
    "        agent.epsilon = max(agent.epsilon * 0.99, 0.01)\n",
    "        target_network.load_state_dict(agent.state_dict())\n",
    "    \n",
    "    if i % 30 == 0:\n",
    "        mean_rw_history.append(play_and_record(agent, session, exp_replay, n_games=10, n_steps=1000, home_turn=0))\n",
    "        clear_output(True)\n",
    "        print(\"buffer size = %i, epsilon = %.5f\" % (len(exp_replay), agent.epsilon))\n",
    "        plt.figure(figsize=[12, 4])        \n",
    "        plt.subplot(1,2,1)\n",
    "        plt.title(\"mean reward per game\")\n",
    "        plt.plot(range(len(mean_rw_history)), mean_rw_history)\n",
    "        plt.grid()\n",
    "\n",
    "        assert not np.isnan(td_loss_history[-1])\n",
    "        plt.subplot(1,2,2)\n",
    "        plt.title(\"TD loss history\")\n",
    "        plt.plot(range(len(td_loss_history)), td_loss_history)\n",
    "        plt.grid()\n",
    "        plt.show()\n",
    "        \n",
    "        plt.savefig(\"train.png\");"
   ]
  },
  {
   "cell_type": "code",
   "execution_count": null,
   "metadata": {},
   "outputs": [],
   "source": []
  }
 ],
 "metadata": {
  "kernelspec": {
   "display_name": "Python 3",
   "language": "python",
   "name": "python3"
  },
  "language_info": {
   "codemirror_mode": {
    "name": "ipython",
    "version": 3
   },
   "file_extension": ".py",
   "mimetype": "text/x-python",
   "name": "python",
   "nbconvert_exporter": "python",
   "pygments_lexer": "ipython3",
   "version": "3.6.5"
  }
 },
 "nbformat": 4,
 "nbformat_minor": 2
}
