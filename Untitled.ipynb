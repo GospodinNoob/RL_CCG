{
 "cells": [
  {
   "cell_type": "code",
   "execution_count": 1,
   "metadata": {},
   "outputs": [],
   "source": [
    "import cards as ccg\n",
    "import pandas as pd\n",
    "import numpy as np\n",
    "\n",
    "cards = pd.read_csv('cardsTable.csv')\n",
    "cardsList = [ccg.Minion(i) for i in cards.values.tolist()]\n",
    "\n",
    "cores = pd.read_csv('cores.csv')\n",
    "coreList = [ccg.Core(i) for i in cores.values.tolist()]\n",
    "\n",
    "playersNum = 2\n",
    "piles = [[ccg.Pile(cardsList, 10) for _ in range(4)] for I in range(playersNum)]\n",
    "cores = np.random.choice(coreList, 2)\n",
    "decks = [ccg.Deck(cores[i], piles[i], i) for i in range(playersNum)]"
   ]
  },
  {
   "cell_type": "code",
   "execution_count": 2,
   "metadata": {},
   "outputs": [],
   "source": [
    "session = ccg.Session(decks)"
   ]
  },
  {
   "cell_type": "code",
   "execution_count": 3,
   "metadata": {},
   "outputs": [
    {
     "data": {
      "text/plain": [
       "{'battleGround': {'grave': [[], []],\n",
       "  'table': [[(0, 0, 30, 30, 1, 1, 1)], [(0, 0, 30, 30, 1, 1, 1)]]},\n",
       " 'piles': [[(10, (2, 2, 0, 3, 3, False, 0)),\n",
       "   (10, (2, 2, 0, 3, 3, False, 0)),\n",
       "   (10, (3, 3, 0, 4, 4, False, 0)),\n",
       "   (10, (3, 3, 0, 4, 4, False, 0))],\n",
       "  [(10, None), (10, None), (10, None), (10, None)]],\n",
       " 'winner': -1,\n",
       " 'turn': 0}"
      ]
     },
     "execution_count": 3,
     "metadata": {},
     "output_type": "execute_result"
    }
   ],
   "source": [
    "session.getObservation()"
   ]
  },
  {
   "cell_type": "code",
   "execution_count": 4,
   "metadata": {},
   "outputs": [
    {
     "data": {
      "text/plain": [
       "{'battleGround': {'grave': [[], []],\n",
       "  'table': [[(0, 0, 30, 30, -1, 1, 1), (2, 2, 0, 3, 3, False, 0)],\n",
       "   [(0, 0, 30, 30, 1, 1, 1)]]},\n",
       " 'piles': [[(9, (3, 3, 0, 4, 4, False, 0)),\n",
       "   (10, (2, 2, 0, 3, 3, False, 0)),\n",
       "   (10, (3, 3, 0, 4, 4, False, 0)),\n",
       "   (10, (3, 3, 0, 4, 4, False, 0))],\n",
       "  [(10, None), (10, None), (10, None), (10, None)]],\n",
       " 'winner': -1,\n",
       " 'turn': 0}"
      ]
     },
     "execution_count": 4,
     "metadata": {},
     "output_type": "execute_result"
    }
   ],
   "source": [
    "session.action((\"play\", 0, 0))"
   ]
  },
  {
   "cell_type": "code",
   "execution_count": 5,
   "metadata": {},
   "outputs": [
    {
     "data": {
      "text/plain": [
       "{'battleGround': {'grave': [[], []],\n",
       "  'table': [[(0, 0, 30, 30, -1, 1, 1), (2, 2, 0, 3, 3, True, 0)],\n",
       "   [(0, 0, 28, 30, 1, 1, 1)]]},\n",
       " 'piles': [[(9, (3, 3, 0, 4, 4, False, 0)),\n",
       "   (10, (2, 2, 0, 3, 3, True, 0)),\n",
       "   (10, (3, 3, 0, 4, 4, False, 0)),\n",
       "   (10, (3, 3, 0, 4, 4, False, 0))],\n",
       "  [(10, None), (10, None), (10, None), (10, None)]],\n",
       " 'winner': -1,\n",
       " 'turn': 0}"
      ]
     },
     "execution_count": 5,
     "metadata": {},
     "output_type": "execute_result"
    }
   ],
   "source": [
    "session.action((\"attack\", [0 , 1], [1, 0]))"
   ]
  },
  {
   "cell_type": "code",
   "execution_count": 6,
   "metadata": {},
   "outputs": [
    {
     "data": {
      "text/plain": [
       "{'battleGround': {'grave': [[], []],\n",
       "  'table': [[(0, 0, 30, 30, -1, 1, 1), (2, 2, 0, 3, 3, True, 0)],\n",
       "   [(0, 0, 28, 30, 1, 1, 1)]]},\n",
       " 'piles': [[(9, None), (10, None), (10, None), (10, None)],\n",
       "  [(10, (3, 3, 0, 4, 4, False, 0)),\n",
       "   (10, (3, 3, 0, 4, 4, False, 0)),\n",
       "   (10, (2, 2, 0, 3, 3, False, 0)),\n",
       "   (10, (2, 2, 0, 3, 3, False, 0))]],\n",
       " 'winner': -1,\n",
       " 'turn': 1}"
      ]
     },
     "execution_count": 6,
     "metadata": {},
     "output_type": "execute_result"
    }
   ],
   "source": [
    "session.action((\"skip\", None))"
   ]
  },
  {
   "cell_type": "code",
   "execution_count": 7,
   "metadata": {},
   "outputs": [
    {
     "data": {
      "text/plain": [
       "{'battleGround': {'grave': [[], []],\n",
       "  'table': [[(0, 0, 30, 30, -1, 1, 1), (2, 2, 0, 3, 3, True, 0)],\n",
       "   [(0, 0, 28, 30, -2, 1, 1), (3, 3, 0, 4, 4, False, 0)]]},\n",
       " 'piles': [[(9, None), (10, None), (10, None), (10, None)],\n",
       "  [(9, (2, 2, 0, 3, 3, False, 0)),\n",
       "   (10, (3, 3, 0, 4, 4, False, 0)),\n",
       "   (10, (2, 2, 0, 3, 3, False, 0)),\n",
       "   (10, (2, 2, 0, 3, 3, False, 0))]],\n",
       " 'winner': -1,\n",
       " 'turn': 1}"
      ]
     },
     "execution_count": 7,
     "metadata": {},
     "output_type": "execute_result"
    }
   ],
   "source": [
    "session.action((\"play\", 0, 0))"
   ]
  },
  {
   "cell_type": "code",
   "execution_count": 8,
   "metadata": {},
   "outputs": [
    {
     "data": {
      "text/plain": [
       "{'battleGround': {'grave': [[], []],\n",
       "  'table': [[(0, 0, 30, 30, -1, 1, 1)],\n",
       "   [(0, 0, 28, 30, -2, 1, 1), (3, 3, 0, 2, 4, True, 0)]]},\n",
       " 'piles': [[(9, None), (10, None), (10, None), (10, None)],\n",
       "  [(9, (2, 2, 0, 3, 3, False, 0)),\n",
       "   (10, (3, 3, 0, 2, 4, True, 0)),\n",
       "   (10, (2, 2, 0, 3, 3, False, 0)),\n",
       "   (10, (2, 2, 0, 3, 3, False, 0))]],\n",
       " 'winner': -1,\n",
       " 'turn': 1}"
      ]
     },
     "execution_count": 8,
     "metadata": {},
     "output_type": "execute_result"
    }
   ],
   "source": [
    "session.action((\"attack\", [1 , 1], [0, 1]))"
   ]
  },
  {
   "cell_type": "code",
   "execution_count": null,
   "metadata": {},
   "outputs": [],
   "source": []
  },
  {
   "cell_type": "code",
   "execution_count": 9,
   "metadata": {},
   "outputs": [
    {
     "name": "stdout",
     "output_type": "stream",
     "text": [
      "0.4.1\n"
     ]
    }
   ],
   "source": [
    "from __future__ import print_function\n",
    "import numpy as np\n",
    "import torch\n",
    "print(torch.__version__)"
   ]
  },
  {
   "cell_type": "code",
   "execution_count": 10,
   "metadata": {},
   "outputs": [
    {
     "ename": "SyntaxError",
     "evalue": "invalid syntax (<ipython-input-10-832b308fe6e2>, line 52)",
     "output_type": "error",
     "traceback": [
      "\u001b[1;36m  File \u001b[1;32m\"<ipython-input-10-832b308fe6e2>\"\u001b[1;36m, line \u001b[1;32m52\u001b[0m\n\u001b[1;33m    for j in range(len())\u001b[0m\n\u001b[1;37m                         ^\u001b[0m\n\u001b[1;31mSyntaxError\u001b[0m\u001b[1;31m:\u001b[0m invalid syntax\n"
     ]
    }
   ],
   "source": [
    "import copy\n",
    "import random\n",
    "\n",
    "def observationTable(table, turn):\n",
    "    tables = copy.deepcopy(table)\n",
    "    for i in tables:\n",
    "        for j in range(len(i), 8):\n",
    "            i.append(observationMinion(ccg.Minion().getCurState()))\n",
    "        i[0] = observationCore(i[0])\n",
    "        for j in range(1, len(i)):\n",
    "            i[j] = observationMinion(i[j])\n",
    "        buf = i[1:]\n",
    "        random.shuffle(buf)\n",
    "        i[1:] = buf\n",
    "    tables[0], tables[turn] = tables[turn], tables[0]\n",
    "    for i in range(len(tables)):\n",
    "        tables[i] = np.hstack(tuple(tables[i]))\n",
    "    return np.hstack(tuple(tables))\n",
    "\n",
    "def observationCore(core):\n",
    "    return np.array(list(core))\n",
    "\n",
    "def observationMinion(minion):\n",
    "    state = list(minion)\n",
    "    state[5] = int(state[5])\n",
    "    return np.array(state)\n",
    "\n",
    "def observationPile(pile):\n",
    "    pileCopy = copy.deepcopy(pile)\n",
    "    random.shuffle(pileCopy)\n",
    "    for i in range(len(pileCopy)):\n",
    "        pileCopy[i] = list(pileCopy[i])\n",
    "        if pileCopy[i][1] == None:\n",
    "            pileCopy[i][1] = observationMinion(ccg.Minion().getCurState())\n",
    "        else:\n",
    "            pileCopy[i][1] = observationMinion(pileCopy[i][1])\n",
    "        pileCopy[i] = [pileCopy[i][0]] + pileCopy[i][1].tolist()\n",
    "    return np.hstack(tuple(pileCopy))\n",
    "\n",
    "def createObservations(state):\n",
    "    observations = dict()\n",
    "    observations[\"main\"] = observationTable(state[\"battleGround\"][\"table\"], state[\"turn\"])\n",
    "    pilesObs = []\n",
    "    for i in state[\"piles\"]:   \n",
    "        pilesObs.append(observationPile(i))\n",
    "    pilesObs[0], pilesObs[state[\"turn\"]] = pilesObs[state[\"turn\"]], pilesObs[0]\n",
    "    pilesObs = np.hstack(tuple(pilesObs))\n",
    "    observations[\"main\"] = np.array(observations[\"main\"].tolist() + pilesObs.tolist())\n",
    "    \n",
    "    observations[\"unitsOtCore\"]\n",
    "    observations[\"unitsActtack\"] = []\n",
    "    for i in range(len(state[\"table\"])):\n",
    "        for j in range(len())\n",
    "    \n",
    "    observations[\"playCard\"] = observations[\"main\"]\n",
    "    \n",
    "    return observations\n"
   ]
  },
  {
   "cell_type": "code",
   "execution_count": null,
   "metadata": {},
   "outputs": [],
   "source": [
    "observations = createObservations(session.getCurState())"
   ]
  },
  {
   "cell_type": "code",
   "execution_count": null,
   "metadata": {},
   "outputs": [],
   "source": [
    "import torch, torch.nn as nn\n",
    "import torch.nn.functional as F\n",
    "from torch.autograd import Variable\n",
    "agent = dict()\n",
    "agent[\"main\"] = nn.Sequential(\n",
    "                nn.Linear(len(observations[\"main\"]), 32),\n",
    "                nn.ReLU(),\n",
    "                nn.Linear(32, 64),\n",
    "                nn.ReLU(),\n",
    "                nn.Linear(64, 3),\n",
    "                )"
   ]
  },
  {
   "cell_type": "code",
   "execution_count": null,
   "metadata": {},
   "outputs": [],
   "source": []
  }
 ],
 "metadata": {
  "kernelspec": {
   "display_name": "Python 3",
   "language": "python",
   "name": "python3"
  },
  "language_info": {
   "codemirror_mode": {
    "name": "ipython",
    "version": 3
   },
   "file_extension": ".py",
   "mimetype": "text/x-python",
   "name": "python",
   "nbconvert_exporter": "python",
   "pygments_lexer": "ipython3",
   "version": "3.6.5"
  }
 },
 "nbformat": 4,
 "nbformat_minor": 2
}
